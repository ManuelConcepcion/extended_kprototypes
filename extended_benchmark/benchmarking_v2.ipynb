{
 "cells": [
  {
   "cell_type": "markdown",
   "metadata": {},
   "source": [
    "# Benchmarking Experiments for Extended K-Prototypes (Paper Versions)"
   ]
  },
  {
   "cell_type": "markdown",
   "metadata": {},
   "source": [
    "Variations on the experimental structure of the original extension as presented for the undergraduate thesis of the author."
   ]
  },
  {
   "cell_type": "code",
   "execution_count": 28,
   "metadata": {},
   "outputs": [],
   "source": [
    "import os\n",
    "import sys\n",
    "current_dir = os.getcwd()\n",
    "\n",
    "# Get the absolute path of the parent directory\n",
    "parent_dir = os.path.abspath(os.path.join(current_dir, os.pardir))\n",
    "sys.path.append(parent_dir)\n",
    "\n",
    "from random import randint\n",
    "from typing import Any, Optional, Callable\n",
    "\n",
    "import numpy as np\n",
    "import pandas as pd\n",
    "\n",
    "from benchmark_extension import Experiment"
   ]
  },
  {
   "cell_type": "markdown",
   "metadata": {},
   "source": [
    "Data generation has been changed to follow a probabilistic approach for the generation of the categorical and multi-valued attributes.  \n",
    "  \n",
    "Categorical attributes are sampled from a user-defined distribution of categorical items.  \n",
    "  \n",
    "Multi-valued attributes are sampled using a tree of conditional probability per cluster to simulate the way in which some items of multi-valued attributes tend to appear in common with others. This is preferred to repeating the approach pursued for categorical variables to better represent real-life conditions that practitioners may face."
   ]
  },
  {
   "cell_type": "code",
   "execution_count": 29,
   "metadata": {},
   "outputs": [],
   "source": [
    "sample_configuration = {\n",
    "    'n_samples': 2000,\n",
    "    'n_clusters': 3,\n",
    "    'class_weights': [0.33, 0.33],\n",
    "    # Numeric Features\n",
    "    'n_numeric_features': 5,\n",
    "    'separability': 3.0,\n",
    "    'noise': 0.01,\n",
    "    # Categroical Features\n",
    "    'n_categorical_features': 5,\n",
    "    'categorical_cardinalities': [6, 6, 6, 6, 6],\n",
    "    'category_distributions':(  # One list per feature per cluster\n",
    "        [\n",
    "            [0.4, 0.4, 0.05, 0.05, 0.05],\n",
    "            [0.4, 0.4, 0.05, 0.05, 0.05],\n",
    "            [0.4, 0.4, 0.05, 0.05, 0.05],\n",
    "            [0.4, 0.4, 0.05, 0.05, 0.05],\n",
    "            [0.4, 0.4, 0.05, 0.05, 0.05]],\n",
    "        [\n",
    "            [0.05, 0.05, 0.4, 0.4, 0.05],\n",
    "            [0.05, 0.05, 0.4, 0.4, 0.05],\n",
    "            [0.05, 0.05, 0.4, 0.4, 0.05],\n",
    "            [0.05, 0.05, 0.4, 0.4, 0.05],\n",
    "            [0.05, 0.05, 0.4, 0.4, 0.05]],\n",
    "        [\n",
    "            [0.05, 0.05, 0.05, 0.05, 0.4],\n",
    "            [0.05, 0.05, 0.05, 0.05, 0.4],\n",
    "            [0.05, 0.05, 0.05, 0.05, 0.4],\n",
    "            [0.05, 0.05, 0.05, 0.05, 0.4],\n",
    "            [0.05, 0.05, 0.05, 0.05, 0.4]]\n",
    "    ),\n",
    "    # Multi-valued Features\n",
    "    'n_multival_features': 5,\n",
    "    'base_chances': (   # One list per feature per cluster\n",
    "        [   \n",
    "            [0.4, 0.4, 0.05, 0.05, 0.05],\n",
    "            [0.4, 0.4, 0.05, 0.05, 0.05],\n",
    "            [0.4, 0.4, 0.05, 0.05, 0.05],\n",
    "            [0.4, 0.4, 0.05, 0.05, 0.05],\n",
    "            [0.4, 0.4, 0.05, 0.05, 0.05]\n",
    "        ],\n",
    "        [\n",
    "            [0.05, 0.05, 0.4, 0.4, 0.05],\n",
    "            [0.05, 0.05, 0.4, 0.4, 0.05],\n",
    "            [0.05, 0.05, 0.4, 0.4, 0.05],\n",
    "            [0.05, 0.05, 0.4, 0.4, 0.05],\n",
    "            [0.05, 0.05, 0.4, 0.4, 0.05]\n",
    "        ],\n",
    "        [\n",
    "            [0.05, 0.05, 0.05, 0.05, 0.4],\n",
    "            [0.05, 0.05, 0.05, 0.05, 0.4],\n",
    "            [0.05, 0.05, 0.05, 0.05, 0.4],\n",
    "            [0.05, 0.05, 0.05, 0.05, 0.4],\n",
    "            [0.05, 0.05, 0.05, 0.05, 0.4]\n",
    "        ]\n",
    "    ),\n",
    "    'conditional_probabilities': (\n",
    "        [  # One dict per feature, per cluster\n",
    "            {\n",
    "                0: [0.04, 0.80, 0.04, 0.04, 0.04],\n",
    "                1: [0.80, 0.04, 0.04, 0.04, 0.04]\n",
    "            },\n",
    "            {\n",
    "                0: [0.04, 0.80, 0.04, 0.04, 0.04],\n",
    "                1: [0.80, 0.04, 0.04, 0.04, 0.04]\n",
    "            },\n",
    "            {\n",
    "                0: [0.04, 0.80, 0.04, 0.04, 0.04],\n",
    "                1: [0.80, 0.04, 0.04, 0.04, 0.04]\n",
    "            },\n",
    "            {\n",
    "                0: [0.04, 0.80, 0.04, 0.04, 0.04],\n",
    "                1: [0.80, 0.04, 0.04, 0.04, 0.04]\n",
    "            },\n",
    "            {\n",
    "                0: [0.04, 0.80, 0.04, 0.04, 0.04],\n",
    "                1: [0.80, 0.04, 0.04, 0.04, 0.04]\n",
    "            }],\n",
    "        [\n",
    "            {\n",
    "                2: [0.04, 0.04, 0.04, 0.80, 0.04],\n",
    "                3: [0.04, 0.04, 0.80, 0.04, 0.04],\n",
    "            },\n",
    "            {\n",
    "                2: [0.04, 0.04, 0.04, 0.80, 0.04],\n",
    "                3: [0.04, 0.04, 0.80, 0.04, 0.04],\n",
    "            },\n",
    "            {\n",
    "                2: [0.04, 0.04, 0.04, 0.80, 0.04],\n",
    "                3: [0.04, 0.04, 0.80, 0.04, 0.04],\n",
    "            },\n",
    "            {\n",
    "                2: [0.04, 0.04, 0.04, 0.80, 0.04],\n",
    "                3: [0.04, 0.04, 0.80, 0.04, 0.04],\n",
    "            },\n",
    "            {\n",
    "                2: [0.04, 0.04, 0.04, 0.80, 0.04],\n",
    "                3: [0.04, 0.04, 0.80, 0.04, 0.04],\n",
    "            }],\n",
    "        [\n",
    "            {\n",
    "                4: [0.04, 0.04, 0.04, 0.04, 0.04],\n",
    "                5: [0.04, 0.04, 0.04, 0.04, 0.80]\n",
    "            },\n",
    "            {\n",
    "                4: [0.04, 0.04, 0.04, 0.04, 0.04],\n",
    "                5: [0.04, 0.04, 0.04, 0.04, 0.80]\n",
    "            },\n",
    "            {\n",
    "                4: [0.04, 0.04, 0.04, 0.04, 0.04],\n",
    "                5: [0.04, 0.04, 0.04, 0.04, 0.80]\n",
    "            },\n",
    "            {\n",
    "                4: [0.04, 0.04, 0.04, 0.04, 0.04],\n",
    "                5: [0.04, 0.04, 0.04, 0.04, 0.80]\n",
    "            },\n",
    "            {\n",
    "                4: [0.04, 0.04, 0.04, 0.04, 0.04],\n",
    "                5: [0.04, 0.04, 0.04, 0.04, 0.80]\n",
    "            }]\n",
    "    ),\n",
    "    # Approach Settings\n",
    "    'approach_settings': {\n",
    "        'naive': {\n",
    "            'gamma': None\n",
    "        },\n",
    "        'one-hot': {\n",
    "            'gamma': None,\n",
    "            'max_dummies': 100\n",
    "        },\n",
    "        'one-hot-pca': {\n",
    "            'gamma': None,\n",
    "            'reduced_dimensions': 0.25\n",
    "        },\n",
    "        'extended': {\n",
    "            'gamma_c': 0.33,\n",
    "            'gamma_m': 0.33,\n",
    "            'theta': 0.001\n",
    "        }\n",
    "    }\n",
    "}"
   ]
  },
  {
   "cell_type": "markdown",
   "metadata": {},
   "source": [
    "The sample configuration includes a bi-modal distribution for each categorical attribute that modifies the modes for each cluster. Harder-to-cluster configurations where some elements are modal in more than one cluster or where some levels are never modal could be tried."
   ]
  },
  {
   "cell_type": "markdown",
   "metadata": {},
   "source": [
    "**Input Rules**:  \n",
    "\n",
    "- Class weights should be of length `n_clusters - 1`. The missing weight will be calculated with `1 - sum(class_weights)`.\n",
    "\n",
    "- Length of `categorical_cardinalities` equal to `n_categorical_features`.\n",
    "\n",
    "- Length of `category_distributions` should be equal to `n_clusters`. Each item is a list of lists specifying a categorical distribution for each categorical attribute describing the categorical characteristics of the cluster.\n",
    "  \n",
    "- Each item in `category_distributions` should include a list per categorical attribute containing the sampling probabilities for each category (as defined in `categorical_cardinalities` minus one) in the attribute. The probabilities should sum up to less than one. The probability for the missing category will be calculated as `1 - sum(distribution)`.\n",
    "  \n",
    "- Length of `probability_trees` should be equal to `n_multival_features`.\n",
    "  \n",
    "- The probabilities of the children of each node in each ``tree`` of ``probability_trees`` should sum up to one. Rule does not apply to leafs.\n",
    "  \n",
    "- In `approach_settings`, the field `reduced_dimensions` in `one-hot-pca` must be a float in the open interval $(0, 1)$.\n",
    "  \n",
    "- In `approach_settings`, the field the gamma fields in `extended` must be floats in the interval $[0, 1)$ and not sum up to more than one. "
   ]
  },
  {
   "cell_type": "code",
   "execution_count": 30,
   "metadata": {},
   "outputs": [],
   "source": [
    "def sample_categorical_attributes(\n",
    "        cluster_assignment_vector: np.ndarray[int],\n",
    "        category_distributions: tuple[list[list[float]]],\n",
    "        n_categorical_features: int,\n",
    "        categorical_cardinalities: list[int],\n",
    "        n_clusters: int,\n",
    "        random_generator: np.random.Generator,\n",
    "        round_digits: int = 5):\n",
    "    \"\"\"\n",
    "    Use categorical distributions to sample the categorical attributes of\n",
    "    a dataset. A category distribution is specified for each cluster and\n",
    "    attribute pair.\n",
    "    \"\"\"\n",
    "\n",
    "    # The expected structure of category distributions is\n",
    "    # tuple (len n_clusters)\n",
    "    #   [list(len n_categorical_features)\n",
    "    #       [list(categorical_cardinality - 1)]\n",
    "    #   ]\n",
    "    # A tuple containing matrices of shape\n",
    "    # (n_cat_features x (cardinality - 1))\n",
    "    # ONLY IF THE CARDINALITY IS CONSTANT.\n",
    "    # Generally, it is a list of lists defining probabilities.\n",
    "\n",
    "    # Checks that everything should be the way it is\n",
    "    if len(categorical_cardinalities) != n_categorical_features:\n",
    "        raise ValueError(\"Mismatched categorical cardinalities \"\n",
    "                            f\"({len(categorical_cardinalities)}) and number \"\n",
    "                            \"of categorical features \"\n",
    "                            f\"({n_categorical_features})\")\n",
    "    if len(category_distributions) != n_clusters:\n",
    "        raise ValueError(\"Mismatched distributions \"\n",
    "                            f\"({len(category_distributions)}) and clusters \"\n",
    "                            f\"({n_clusters})\")\n",
    "\n",
    "    for distr in category_distributions:\n",
    "        if len(distr) != n_categorical_features:\n",
    "            raise ValueError(\"Probability distributions must be provided \"\n",
    "                                \"for all categorical features \"\n",
    "                                f\"({n_categorical_features}). Only \"\n",
    "                                f\"{len(distr)} have been specified.\")\n",
    "\n",
    "        for i, var_distr in enumerate(distr):\n",
    "            if len(var_distr) != (categorical_cardinalities[i]-1):\n",
    "                raise ValueError(\"Probability distribution must include \"\n",
    "                                    \"categorical_cardinalities - 1 values.\")\n",
    "            if round(sum(var_distr), round_digits) > 1:\n",
    "                raise ValueError(\"Probability distribution must not sum \"\n",
    "                                    \"up to more than one.\")\n",
    "\n",
    "    # Code\n",
    "    output_columns = []\n",
    "\n",
    "    # Check the cluster and get the respective prob distribution\n",
    "    # Sample once from the multinomial. Use argmax to get the category\n",
    "    def choice_func(i_cluster):\n",
    "        return np.argmax(\n",
    "            random_generator.multinomial(\n",
    "                1,\n",
    "                pvals=category_distributions[i_cluster][i_feature] +\n",
    "                [np.round(\n",
    "                    1-sum(\n",
    "                        category_distributions[i_cluster][i_feature]),\n",
    "                    round_digits)],\n",
    "                size=1),\n",
    "            axis=1)\n",
    "\n",
    "    choice_func_vec = np.vectorize(choice_func)\n",
    "\n",
    "    for i_feature in range(n_categorical_features):\n",
    "        output_columns.append(choice_func_vec(cluster_assignment_vector))\n",
    "\n",
    "    return np.stack(output_columns, axis=1)"
   ]
  },
  {
   "cell_type": "code",
   "execution_count": 31,
   "metadata": {},
   "outputs": [],
   "source": [
    "cluster_array = np.array([0, 1, 1, 2, 1, 0, 0, 0, 0, 0, 0, 0, 0, 0, 0], dtype=np.int64)"
   ]
  },
  {
   "cell_type": "code",
   "execution_count": 32,
   "metadata": {},
   "outputs": [
    {
     "data": {
      "text/plain": [
       "array([[5, 0, 1, 1, 4],\n",
       "       [3, 2, 3, 3, 3],\n",
       "       [2, 2, 2, 3, 0],\n",
       "       [4, 5, 4, 5, 5],\n",
       "       [2, 3, 2, 1, 2],\n",
       "       [2, 1, 0, 4, 1],\n",
       "       [0, 0, 0, 0, 0],\n",
       "       [1, 1, 2, 1, 5],\n",
       "       [1, 0, 0, 1, 1],\n",
       "       [0, 0, 1, 1, 5],\n",
       "       [0, 1, 4, 2, 0],\n",
       "       [0, 1, 1, 1, 1],\n",
       "       [1, 1, 0, 5, 1],\n",
       "       [1, 4, 0, 0, 5],\n",
       "       [1, 1, 0, 5, 1]], dtype=int64)"
      ]
     },
     "execution_count": 32,
     "metadata": {},
     "output_type": "execute_result"
    }
   ],
   "source": [
    "sample_categorical_attributes(cluster_assignment_vector=cluster_array,\n",
    "                              category_distributions=sample_configuration['category_distributions'],\n",
    "                              n_categorical_features=sample_configuration['n_categorical_features'],\n",
    "                              categorical_cardinalities=sample_configuration['categorical_cardinalities'],\n",
    "                              n_clusters=sample_configuration['n_clusters'],\n",
    "                              random_generator=np.random.default_rng(42))"
   ]
  },
  {
   "cell_type": "markdown",
   "metadata": {},
   "source": [
    "Now for the multi-valued attributes, as generated from probability trees."
   ]
  },
  {
   "cell_type": "code",
   "execution_count": 33,
   "metadata": {},
   "outputs": [],
   "source": [
    "from collections import defaultdict\n",
    "\n",
    "base_chance = [0.05, 0.05, 0.4, 0.4, 0.05]\n",
    "\n",
    "conditional_probabilities = defaultdict(lambda: base_chance+[round(1-sum(base_chance))])\n",
    "\n",
    "specified_conditional_probabilities = {\n",
    "    2: [0.04, 0.04, 0.04, 0.80, 0.04],\n",
    "    3: [0.04, 0.04, 0.80, 0.04, 0.04]\n",
    "}\n",
    "\n",
    "conditional_probabilities.update(specified_conditional_probabilities)"
   ]
  },
  {
   "cell_type": "code",
   "execution_count": 34,
   "metadata": {},
   "outputs": [
    {
     "data": {
      "text/plain": [
       "[0.05, 0.05, 0.4, 0.4, 0.05, 0]"
      ]
     },
     "execution_count": 34,
     "metadata": {},
     "output_type": "execute_result"
    }
   ],
   "source": [
    "conditional_probabilities[1]"
   ]
  },
  {
   "cell_type": "code",
   "execution_count": 35,
   "metadata": {},
   "outputs": [
    {
     "data": {
      "text/plain": [
       "[0.04, 0.04, 0.04, 0.8, 0.04]"
      ]
     },
     "execution_count": 35,
     "metadata": {},
     "output_type": "execute_result"
    }
   ],
   "source": [
    "conditional_probabilities[2]"
   ]
  },
  {
   "cell_type": "code",
   "execution_count": 36,
   "metadata": {},
   "outputs": [],
   "source": [
    "def sample_multival_once_iter(iterations: int,\n",
    "                         base_chance: list[float],\n",
    "                         conditional_probabilities: dict,\n",
    "                         random_generator: np.random.Generator):\n",
    "    choice = np.argmax(\n",
    "        random_generator.multinomial(1,\n",
    "            pvals=base_chance+[round(1-sum(base_chance))]\n",
    "        )\n",
    "    )\n",
    "    choice_set = {choice}\n",
    "\n",
    "    for _ in range(iterations):\n",
    "        # Will get the base chance or the specified ones\n",
    "        choice = np.argmax(\n",
    "            random_generator.multinomial(1,\n",
    "                pvals=conditional_probabilities[choice]+[\n",
    "                    round(1-sum(conditional_probabilities[choice]))\n",
    "                ]\n",
    "            )\n",
    "        )\n",
    "        choice_set.add(choice)\n",
    "\n",
    "    return choice_set"
   ]
  },
  {
   "cell_type": "code",
   "execution_count": 37,
   "metadata": {},
   "outputs": [
    {
     "data": {
      "text/plain": [
       "{1, 2, 3}"
      ]
     },
     "execution_count": 37,
     "metadata": {},
     "output_type": "execute_result"
    }
   ],
   "source": [
    "sample_multival_once_iter(iterations=10,\n",
    "                     base_chance=base_chance,\n",
    "                     conditional_probabilities=conditional_probabilities,\n",
    "                     random_generator=np.random.default_rng(42))"
   ]
  },
  {
   "cell_type": "code",
   "execution_count": 38,
   "metadata": {},
   "outputs": [],
   "source": [
    "def sample_multival_once_target(target: int,\n",
    "                         base_chance: list[float],\n",
    "                         conditional_probabilities: dict,\n",
    "                         random_generator: np.random.Generator):\n",
    "    choice = np.argmax(\n",
    "        random_generator.multinomial(1,\n",
    "            pvals=base_chance+[round(1-sum(base_chance))]\n",
    "        )\n",
    "    )\n",
    "    choice_set = {choice}\n",
    "\n",
    "    while len(choice_set) < target:\n",
    "        # Will get the base chance or the specified ones\n",
    "        choice = np.argmax(\n",
    "            random_generator.multinomial(1,\n",
    "                pvals=conditional_probabilities[choice]+[\n",
    "                    round(1-sum(conditional_probabilities[choice]))\n",
    "                ]\n",
    "            )\n",
    "        )\n",
    "        choice_set.add(choice)\n",
    "\n",
    "    return choice_set"
   ]
  },
  {
   "cell_type": "code",
   "execution_count": 39,
   "metadata": {},
   "outputs": [
    {
     "data": {
      "text/plain": [
       "{0, 1, 2, 3}"
      ]
     },
     "execution_count": 39,
     "metadata": {},
     "output_type": "execute_result"
    }
   ],
   "source": [
    "sample_multival_once_target(target=4,\n",
    "                     base_chance=base_chance,\n",
    "                     conditional_probabilities=conditional_probabilities,\n",
    "                     random_generator=np.random.default_rng(42))"
   ]
  },
  {
   "cell_type": "code",
   "execution_count": 40,
   "metadata": {},
   "outputs": [],
   "source": [
    "from copy import deepcopy"
   ]
  },
  {
   "cell_type": "code",
   "execution_count": 41,
   "metadata": {},
   "outputs": [],
   "source": [
    "def sample_multival_attributes(\n",
    "    cluster_assignment_vector: np.ndarray,\n",
    "    n_clusters: int,\n",
    "    n_multival_features: int,\n",
    "    base_chances: list[list[float]],\n",
    "    conditional_probabilities: list[dict],\n",
    "    random_generator: np.random.Generator,\n",
    "    iterations: Optional[int] = None,\n",
    "    target_len: Optional[int] = None\n",
    ") -> tuple[np.ndarray, list[dict]]:\n",
    "    \"\"\"Sample the multivalued attributes from probability distributions.\"\"\"\n",
    "\n",
    "    # Check input integrity\n",
    "    if len(base_chances) != n_clusters:\n",
    "        raise ValueError(\n",
    "            \"The iterable containing lists with the conditional \"\n",
    "            \"probability distributions must be of length \"\n",
    "            f\"equal to n_clusters ({n_clusters}).\")\n",
    "    # if both are None or specified\n",
    "    if (iterations is None) == (target_len is None):\n",
    "        raise ValueError(\"Arguments 'iterations' and 'target_len' are \"\n",
    "                            \"mutually exclusive. Specify one or the other.\")\n",
    "\n",
    "    # Define this here so we do not have scope problems in the default dict\n",
    "    def fixed_lambda(val):\n",
    "        return lambda: val\n",
    "\n",
    "    # Cache the p-dicts here for the function call below\n",
    "    cluster_p_dicts = []\n",
    "    for i_cluster in range(n_clusters):\n",
    "        feature_dicts = []\n",
    "\n",
    "        for i_feature in range(n_multival_features):\n",
    "            base_chance = deepcopy(\n",
    "                base_chances[i_cluster][i_feature]+[round(\n",
    "                    1-sum(base_chances[i_cluster][i_feature]))\n",
    "                ])\n",
    "            p_dict = defaultdict(fixed_lambda(base_chance))\n",
    "\n",
    "            p_dict.update(conditional_probabilities[i_cluster][i_feature])\n",
    "            feature_dicts.append(p_dict)\n",
    "\n",
    "        cluster_p_dicts.append(feature_dicts)\n",
    "\n",
    "    # Vectorize the sampling function to create the features\n",
    "    output_columns = []\n",
    "    \n",
    "    def iter_func(i_cl, i_feat):\n",
    "        return sample_multival_once_iter(\n",
    "            iterations=iterations,\n",
    "            base_chance=base_chances[i_cl][i_feat],\n",
    "            conditional_probabilities=cluster_p_dicts[i_cl][i_feat],\n",
    "            random_generator=random_generator\n",
    "        )\n",
    "    \n",
    "    def target_func(i_cl, i_feat):\n",
    "        return sample_multival_once_target(\n",
    "            target=target_len,\n",
    "            base_chance=base_chances[i_cl][i_feat],\n",
    "            conditional_probabilities=cluster_p_dicts[i_cl][i_feat],\n",
    "            random_generator=random_generator\n",
    "        )\n",
    "\n",
    "    for i_feature in range(n_multival_features):\n",
    "        if iterations:\n",
    "            sampling_func = np.vectorize(iter_func)\n",
    "        else:\n",
    "            sampling_func = np.vectorize(target_func)\n",
    "        \n",
    "        output_columns.append(sampling_func(cluster_assignment_vector,\n",
    "                                            i_feature))\n",
    "\n",
    "    return np.stack(output_columns, axis=1)"
   ]
  },
  {
   "cell_type": "code",
   "execution_count": 42,
   "metadata": {},
   "outputs": [
    {
     "data": {
      "text/plain": [
       "array([[{0, 1, 3}, {0, 1}, {0, 1}, {0, 1}, {0, 1}],\n",
       "       [{0, 1, 2}, {0, 1}, {0, 1, 3, 5}, {0, 1, 4}, {0, 1, 5, 6}],\n",
       "       [{0, 2, 3}, {2, 3}, {0, 2, 3}, {0, 2, 3}, {2, 3, 5}],\n",
       "       [{2, 3}, {1, 2, 3}, {0, 2, 3, 5}, {2, 3}, {0, 2, 3}],\n",
       "       [{4, 5}, {4, 5}, {4, 5}, {1, 4, 5, 6}, {4, 5}]], dtype=object)"
      ]
     },
     "execution_count": 42,
     "metadata": {},
     "output_type": "execute_result"
    }
   ],
   "source": [
    "out_cols = sample_multival_attributes(cluster_assignment_vector=[0, 0, 1, 1, 2],\n",
    "                    n_clusters=sample_configuration['n_clusters'],\n",
    "                    n_multival_features=sample_configuration['n_multival_features'],\n",
    "                    base_chances=sample_configuration['base_chances'],\n",
    "                    conditional_probabilities=sample_configuration['conditional_probabilities'],\n",
    "                    iterations=4,\n",
    "                    random_generator=np.random.default_rng(42))\n",
    "\n",
    "out_cols"
   ]
  },
  {
   "cell_type": "code",
   "execution_count": 43,
   "metadata": {},
   "outputs": [
    {
     "data": {
      "text/plain": [
       "array([[{0, 1, 2}, {1, 4, 5}, {0, 1, 3}, {0, 1, 5}, {0, 3, 6}],\n",
       "       [{0, 2, 3}, {0, 1, 4}, {0, 1, 2}, {0, 1, 5}, {0, 1, 2}],\n",
       "       [{2, 3, 4}, {0, 2, 3}, {0, 2, 3}, {1, 2, 3}, {2, 3, 4}],\n",
       "       [{2, 3, 5}, {2, 3, 4}, {2, 3, 4}, {1, 2, 3}, {2, 3, 5}],\n",
       "       [{1, 4, 5}, {3, 4, 5}, {3, 4, 5}, {1, 4, 5}, {2, 4, 5}]],\n",
       "      dtype=object)"
      ]
     },
     "execution_count": 43,
     "metadata": {},
     "output_type": "execute_result"
    }
   ],
   "source": [
    "sample_multival_attributes(cluster_assignment_vector=[0, 0, 1, 1, 2],\n",
    "                    n_clusters=sample_configuration['n_clusters'],\n",
    "                    n_multival_features=sample_configuration['n_multival_features'],\n",
    "                    base_chances=sample_configuration['base_chances'],\n",
    "                    conditional_probabilities=sample_configuration['conditional_probabilities'],\n",
    "                    target_len=3,\n",
    "                    random_generator=np.random.default_rng(42))"
   ]
  },
  {
   "cell_type": "markdown",
   "metadata": {},
   "source": [
    "**Explanation of the new data simulation**  \n",
    "  \n",
    "*Single-Valued Categorical* attribute are sampled from categorical distributions. For each pair of cluster and feature, a categorical distribution must be specified. Then, for each feature, values will be sampled from the categorical distribution specified for that cluster and feature.\n",
    "\n",
    "*Multi-Valued Categorical* attribute are sampled using a similar strategy. In order to better reflect the possibility that certain items of a multi-valued categorical attribute tend to appear together, we specify both a \"base\" categorical distribution and \"conditional\" categorical distributions, joined in a tree-like fashion. For a given feature-cluster pair, an item is firstly sampled from the \"base\" distribution. If a \"conditional\" distribution has been specified for the chosen item, then the next item is sampled for that \"conditional\" distribution. If no conditional distribution has been specified, then the next item is sampled again from the \"base\" distribution. This process continues for a number of iterations or until the set has a target length."
   ]
  },
  {
   "cell_type": "markdown",
   "metadata": {},
   "source": [
    "## Exact modal set (medoid)"
   ]
  },
  {
   "cell_type": "code",
   "execution_count": 51,
   "metadata": {},
   "outputs": [
    {
     "data": {
      "text/plain": [
       "array([[{0, 1, 3}],\n",
       "       [{0, 1, 2}],\n",
       "       [{0, 2, 3}],\n",
       "       [{2, 3}],\n",
       "       [{4, 5}]], dtype=object)"
      ]
     },
     "execution_count": 51,
     "metadata": {},
     "output_type": "execute_result"
    }
   ],
   "source": [
    "import scipy\n",
    "\n",
    "m_val_array = out_cols[:,0].reshape(5, -1)\n",
    "\n",
    "m_val_array"
   ]
  },
  {
   "cell_type": "code",
   "execution_count": 52,
   "metadata": {},
   "outputs": [],
   "source": [
    "from kmodes.util.dissim import jaccard_dissim_sets"
   ]
  },
  {
   "cell_type": "code",
   "execution_count": 53,
   "metadata": {},
   "outputs": [
    {
     "data": {
      "text/plain": [
       "array([0.5       , 0.5       , 0.75      , 1.        , 0.5       ,\n",
       "       0.75      , 1.        , 0.33333333, 1.        , 1.        ])"
      ]
     },
     "execution_count": 53,
     "metadata": {},
     "output_type": "execute_result"
    }
   ],
   "source": [
    "# I wonder if there's a way to figure out how to find the argmin sum of\n",
    "# distances using the vector-form instead of the square-form...\n",
    "\n",
    "scipy.spatial.distance.pdist(m_val_array, jaccard_dissim_sets)"
   ]
  },
  {
   "cell_type": "code",
   "execution_count": 56,
   "metadata": {},
   "outputs": [
    {
     "data": {
      "text/plain": [
       "array([1.83333333, 4.        , 4.05      , 4.8       , 3.73333333,\n",
       "       3.73333333, 4.2       , 1.75      , 4.75      , 4.8       ])"
      ]
     },
     "execution_count": 56,
     "metadata": {},
     "output_type": "execute_result"
    }
   ],
   "source": [
    "out_cols_np = []\n",
    "n_rows = out_cols.shape[0]\n",
    "\n",
    "for col in range(out_cols.shape[1]):\n",
    "    out_cols_np.append(\n",
    "        out_cols[:,col].reshape(5, -1)\n",
    "    )\n",
    "\n",
    "dist_result = map(lambda np_array: scipy.spatial.distance.pdist(\n",
    "        np_array, jaccard_dissim_sets),\n",
    "                    out_cols_np\n",
    "                    )\n",
    "\n",
    "sum(dist_result)"
   ]
  },
  {
   "cell_type": "code",
   "execution_count": 59,
   "metadata": {},
   "outputs": [],
   "source": [
    "def determine_multival_medoid_index(out_cols_array: np.ndarray,\n",
    "                                    dissim_func: Callable):\n",
    "    out_cols_np = []\n",
    "    n_rows = out_cols_array.shape[0]\n",
    "\n",
    "    for col in range(out_cols_array.shape[1]):\n",
    "        out_cols_np.append(\n",
    "            out_cols[:, col].reshape(n_rows, -1)\n",
    "        )\n",
    "\n",
    "    dist_result = map(lambda np_array: scipy.spatial.distance.squareform(\n",
    "                    scipy.spatial.distance.pdist(np_array, dissim_func)\n",
    "                    ),\n",
    "                    out_cols_np\n",
    "                    )\n",
    "    \n",
    "    total_dist_matrix = sum(dist_result)\n",
    "\n",
    "    # Check that the diagonal is only zeroes\n",
    "    if not np.all(np.diagonal(total_dist_matrix) == 0):\n",
    "        raise ValueError(\"Distance matrix diagonal is not all zeroes. Possible\"\n",
    "                         \"problem with the multi-valued attributes.\")\n",
    "\n",
    "    # Axis is irrelevant because matrix is NxN symmetric\n",
    "    return np.argmin(np.sum(total_dist_matrix, axis=0)), total_dist_matrix"
   ]
  },
  {
   "cell_type": "code",
   "execution_count": 60,
   "metadata": {},
   "outputs": [
    {
     "data": {
      "text/plain": [
       "1"
      ]
     },
     "execution_count": 60,
     "metadata": {},
     "output_type": "execute_result"
    }
   ],
   "source": [
    "determine_multival_medoid_index(out_cols, jaccard_dissim_sets)[0]"
   ]
  },
  {
   "cell_type": "code",
   "execution_count": 61,
   "metadata": {},
   "outputs": [
    {
     "data": {
      "text/plain": [
       "array([[0.        , 1.83333333, 4.        , 4.05      , 4.8       ],\n",
       "       [1.83333333, 0.        , 3.73333333, 3.73333333, 4.2       ],\n",
       "       [4.        , 3.73333333, 0.        , 1.75      , 4.75      ],\n",
       "       [4.05      , 3.73333333, 1.75      , 0.        , 4.8       ],\n",
       "       [4.8       , 4.2       , 4.75      , 4.8       , 0.        ]])"
      ]
     },
     "execution_count": 61,
     "metadata": {},
     "output_type": "execute_result"
    }
   ],
   "source": [
    "determine_multival_medoid_index(out_cols, jaccard_dissim_sets)[1]"
   ]
  },
  {
   "cell_type": "markdown",
   "metadata": {},
   "source": [
    "#### Benchmark: Squareform Transformation vs Dense Representation"
   ]
  },
  {
   "cell_type": "code",
   "execution_count": 22,
   "metadata": {},
   "outputs": [],
   "source": [
    "from itertools import combinations"
   ]
  },
  {
   "cell_type": "code",
   "execution_count": 23,
   "metadata": {},
   "outputs": [],
   "source": [
    "def squared_to_condensed(i, j, n):\n",
    "    assert i != j, \"no diagonal indexes\"\n",
    "    if i < j:\n",
    "        i, j = j, i     # Avoid redundancies\n",
    "    return n*j - j*(j+1)//2 + i - 1 - j\n",
    "\n",
    "def determine_dense_dist_indices(n_objects: int):\n",
    "    non_diagonal_indexes = list(combinations(range(n_objects), 2))\n",
    "\n",
    "    return (\n",
    "        non_diagonal_indexes,\n",
    "        list(map(\n",
    "            lambda x: squared_to_condensed(x[0], x[1], n_objects),\n",
    "            non_diagonal_indexes \n",
    "            )\n",
    "        )\n",
    "        )\n"
   ]
  },
  {
   "cell_type": "code",
   "execution_count": 24,
   "metadata": {},
   "outputs": [
    {
     "data": {
      "text/plain": [
       "[(0, 1),\n",
       " (0, 2),\n",
       " (0, 3),\n",
       " (0, 4),\n",
       " (0, 5),\n",
       " (1, 2),\n",
       " (1, 3),\n",
       " (1, 4),\n",
       " (1, 5),\n",
       " (2, 3),\n",
       " (2, 4),\n",
       " (2, 5),\n",
       " (3, 4),\n",
       " (3, 5),\n",
       " (4, 5)]"
      ]
     },
     "execution_count": 24,
     "metadata": {},
     "output_type": "execute_result"
    }
   ],
   "source": [
    "tuples = determine_dense_dist_indices(6)[0]    # of length (n(n-1))/2\n",
    "tuples"
   ]
  },
  {
   "cell_type": "code",
   "execution_count": 49,
   "metadata": {},
   "outputs": [],
   "source": [
    "def isin_array_element(array_element, item):\n",
    "    return item in array_element\n",
    "\n",
    "vectorized_func = np.vectorize(isin_array_element)"
   ]
  },
  {
   "cell_type": "code",
   "execution_count": 25,
   "metadata": {},
   "outputs": [
    {
     "data": {
      "text/plain": [
       "[0, 1, 2, 3, 4, 5, 6, 7, 8, 9, 10, 11, 12, 13, 14]"
      ]
     },
     "execution_count": 25,
     "metadata": {},
     "output_type": "execute_result"
    }
   ],
   "source": [
    "dist_indexes = determine_dense_dist_indices(6)[1]\n",
    "dist_indexes"
   ]
  },
  {
   "cell_type": "code",
   "execution_count": 50,
   "metadata": {},
   "outputs": [
    {
     "data": {
      "text/plain": [
       "array([(0, 1), (0, 2), (0, 3), (0, 4), (0, 5), (1, 2), (1, 3), (1, 4),\n",
       "       (1, 5), (2, 3), (2, 4), (2, 5), (3, 4), (3, 5), (4, 5)],\n",
       "      dtype=[('f0', '<i4'), ('f1', '<i4')])"
      ]
     },
     "execution_count": 50,
     "metadata": {},
     "output_type": "execute_result"
    }
   ],
   "source": [
    "tuples_array = np.array(tuples, dtype=\"i,i\")\n",
    "\n",
    "tuples_array"
   ]
  },
  {
   "cell_type": "code",
   "execution_count": 51,
   "metadata": {},
   "outputs": [
    {
     "data": {
      "text/plain": [
       "array([ True, False, False, False, False,  True,  True,  True,  True,\n",
       "       False, False, False, False, False, False])"
      ]
     },
     "execution_count": 51,
     "metadata": {},
     "output_type": "execute_result"
    }
   ],
   "source": [
    "vectorized_func(tuples_array, 1)"
   ]
  },
  {
   "cell_type": "code",
   "execution_count": 76,
   "metadata": {},
   "outputs": [],
   "source": [
    "def squared_to_condensed(i, j, n):\n",
    "    assert i != j, \"no diagonal indexes\"\n",
    "    if i < j:\n",
    "        i, j = j, i     # Avoid redundancies\n",
    "    return n*j - j*(j+1)//2 + i - 1 - j\n",
    "\n",
    "\n",
    "def determine_dense_dist_indices(n_objects: int):\n",
    "    non_diagonal_indexes = list(combinations(range(n_objects), 2))\n",
    "\n",
    "    return (\n",
    "        non_diagonal_indexes,\n",
    "        list(map(\n",
    "            lambda x: squared_to_condensed(x[0], x[1], n_objects),\n",
    "            non_diagonal_indexes \n",
    "            )\n",
    "        )\n",
    "        )\n",
    "\n",
    "def object_index_to_distance(object_index: int,\n",
    "                             pairwise_tuples: np.ndarray[tuple[int]],\n",
    "                             distance_indices: np.ndarray[int],\n",
    "                             dense_distance_vector: np.ndarray[float],\n",
    "                             ) -> list[int]:\n",
    "    contains_func = np.vectorize(lambda tupl, item: item in tupl)\n",
    "    \n",
    "    # Find the indices that correspond to a given item\n",
    "    mask = contains_func(pairwise_tuples, object_index)\n",
    "    object_indices = distance_indices[mask]\n",
    "\n",
    "    # Reduce the distance vector to a sum of distances.\n",
    "    return sum(dense_distance_vector[object_indices])\n",
    "\n",
    "\n",
    "# Input is the dense vector representation sum for all attributes\n",
    "def dist_sum_with_dense_vector_repr(dense_vector_dist: np.ndarray[float],\n",
    "                                    n_objects: int,\n",
    "                                    ) -> np.ndarray:    #1-d with len n_objects\n",
    "    tuples_list, dist_indexes = determine_dense_dist_indices(n_objects)\n",
    "\n",
    "    tuples_array = np.array(tuples_list, dtype=\"i,i\")\n",
    "    indexes_array = np.array(dist_indexes, dtype=np.int64)\n",
    "\n",
    "    indexes_func = np.vectorize(lambda index: \n",
    "        object_index_to_distance(\n",
    "            object_index=index,\n",
    "            pairwise_tuples=tuples_array,\n",
    "            distance_indices=indexes_array,\n",
    "            dense_distance_vector=dense_vector_dist\n",
    "            )\n",
    "        )\n",
    "    \n",
    "    return indexes_func(np.arange(n_objects))"
   ]
  },
  {
   "cell_type": "code",
   "execution_count": 70,
   "metadata": {},
   "outputs": [
    {
     "data": {
      "text/plain": [
       "array([1.83333333, 4.        , 4.05      , 4.8       , 3.73333333,\n",
       "       3.73333333, 4.2       , 1.75      , 4.75      , 4.8       ])"
      ]
     },
     "execution_count": 70,
     "metadata": {},
     "output_type": "execute_result"
    }
   ],
   "source": [
    "total_dense_distance = scipy.spatial.distance.squareform(determine_multival_medoid_index(out_cols, jaccard_dissim_sets)[1])\n",
    "total_dense_distance"
   ]
  },
  {
   "cell_type": "code",
   "execution_count": 64,
   "metadata": {},
   "outputs": [
    {
     "data": {
      "text/plain": [
       "5"
      ]
     },
     "execution_count": 64,
     "metadata": {},
     "output_type": "execute_result"
    }
   ],
   "source": [
    "out_cols.shape[0]"
   ]
  },
  {
   "cell_type": "code",
   "execution_count": 78,
   "metadata": {},
   "outputs": [
    {
     "data": {
      "text/plain": [
       "array([14.68333333, 13.5       , 14.23333333, 14.33333333, 18.55      ])"
      ]
     },
     "execution_count": 78,
     "metadata": {},
     "output_type": "execute_result"
    }
   ],
   "source": [
    "dist_sum_with_dense_vector_repr(dense_vector_dist=total_dense_distance,\n",
    "                                n_objects=out_cols.shape[0])"
   ]
  },
  {
   "cell_type": "code",
   "execution_count": 79,
   "metadata": {},
   "outputs": [
    {
     "data": {
      "text/plain": [
       "1"
      ]
     },
     "execution_count": 79,
     "metadata": {},
     "output_type": "execute_result"
    }
   ],
   "source": [
    "np.argmin(dist_sum_with_dense_vector_repr(dense_vector_dist=total_dense_distance,\n",
    "                                          n_objects=out_cols.shape[0]))"
   ]
  },
  {
   "cell_type": "code",
   "execution_count": 92,
   "metadata": {},
   "outputs": [],
   "source": [
    "def determine_multival_medoid_index_dense(out_cols_df: pd.DataFrame,\n",
    "                                          dissim_func: Callable):\n",
    "    out_cols_np = []\n",
    "    n_rows = out_cols_df.shape[0]\n",
    "\n",
    "    for col in out_cols_df.columns:\n",
    "        out_cols_np.append(\n",
    "            out_cols_df.loc[:, col].to_numpy().reshape((n_rows, -1))\n",
    "        )\n",
    "\n",
    "    dist_result = map(lambda np_array: \n",
    "                      scipy.spatial.distance.pdist(np_array, dissim_func),\n",
    "                      out_cols_np\n",
    "                    )\n",
    "\n",
    "    total_dist_matrix = sum(dist_result)\n",
    "\n",
    "    # Axis is irrelevant because matrix is NxN symmetric\n",
    "    return np.argmin(dist_sum_with_dense_vector_repr(\n",
    "        dense_vector_dist=total_dist_matrix,\n",
    "        n_objects=n_rows)\n",
    "        ), total_dist_matrix"
   ]
  },
  {
   "cell_type": "code",
   "execution_count": 93,
   "metadata": {},
   "outputs": [
    {
     "data": {
      "text/plain": [
       "(1,\n",
       " array([1.83333333, 4.        , 4.05      , 4.8       , 3.73333333,\n",
       "        3.73333333, 4.2       , 1.75      , 4.75      , 4.8       ]))"
      ]
     },
     "execution_count": 93,
     "metadata": {},
     "output_type": "execute_result"
    }
   ],
   "source": [
    "determine_multival_medoid_index_dense(out_cols_df=out_cols,\n",
    "                                      dissim_func=jaccard_dissim_sets)"
   ]
  },
  {
   "cell_type": "code",
   "execution_count": 94,
   "metadata": {},
   "outputs": [
    {
     "data": {
      "text/plain": [
       "(1,\n",
       " array([[0.        , 1.83333333, 4.        , 4.05      , 4.8       ],\n",
       "        [1.83333333, 0.        , 3.73333333, 3.73333333, 4.2       ],\n",
       "        [4.        , 3.73333333, 0.        , 1.75      , 4.75      ],\n",
       "        [4.05      , 3.73333333, 1.75      , 0.        , 4.8       ],\n",
       "        [4.8       , 4.2       , 4.75      , 4.8       , 0.        ]]))"
      ]
     },
     "execution_count": 94,
     "metadata": {},
     "output_type": "execute_result"
    }
   ],
   "source": [
    "determine_multival_medoid_index(out_cols_df=out_cols,\n",
    "                                dissim_func=jaccard_dissim_sets)"
   ]
  },
  {
   "cell_type": "code",
   "execution_count": 95,
   "metadata": {},
   "outputs": [
    {
     "data": {
      "text/plain": [
       "array([0, 2, 1, 1, 1, 2, 0, 2, 0, 0, 1, 2, 2, 2, 2, 2, 1, 0, 2, 1, 1, 1,\n",
       "       0, 2, 2, 1, 1, 2, 1, 1, 1, 0, 0, 1, 2, 0, 2, 2, 0, 1, 0, 2, 2, 1,\n",
       "       0, 2, 1, 2, 2, 2, 2, 0, 1, 1, 1, 0, 1, 0, 2, 2, 2, 2, 1, 2, 1, 0,\n",
       "       2, 1, 0, 1, 2, 0, 1, 0, 2, 1, 0, 0, 1, 2, 2, 1, 0, 2, 1, 2, 0, 0,\n",
       "       2, 2, 1, 2, 2, 1, 2, 0, 0, 2, 1, 0], dtype=int64)"
      ]
     },
     "execution_count": 95,
     "metadata": {},
     "output_type": "execute_result"
    }
   ],
   "source": [
    "np.random.default_rng(42).choice(3, 100)"
   ]
  },
  {
   "cell_type": "code",
   "execution_count": 99,
   "metadata": {},
   "outputs": [],
   "source": [
    "from timeit import default_timer"
   ]
  },
  {
   "cell_type": "code",
   "execution_count": 107,
   "metadata": {},
   "outputs": [],
   "source": [
    "dataset_sizes = list(range(100, 1100, 100))\n",
    "square_result_time = []\n",
    "dense_result_time = []\n",
    "\n",
    "for size in dataset_sizes:\n",
    "    cluster_vector = np.random.default_rng(42).choice(3, size)\n",
    "\n",
    "    out_col_df = sample_multival_attributes(\n",
    "                    cluster_assignment_vector=cluster_vector,\n",
    "                    n_clusters=sample_configuration['n_clusters'],\n",
    "                    n_multival_features=sample_configuration['n_multival_features'],\n",
    "                    base_chances=sample_configuration['base_chances'],\n",
    "                    conditional_probabilities=sample_configuration['conditional_probabilities'],\n",
    "                    iterations=4,\n",
    "                    random_generator=np.random.default_rng(42))\n",
    "\n",
    "    start = default_timer()\n",
    "    determine_multival_medoid_index(out_cols_df=out_col_df,\n",
    "                                    dissim_func=jaccard_dissim_sets)\n",
    "    end = default_timer()\n",
    "\n",
    "    square_result_time.append(end - start)\n",
    "\n",
    "    start = default_timer()\n",
    "    determine_multival_medoid_index_dense(out_cols_df=out_col_df,\n",
    "                                          dissim_func=jaccard_dissim_sets)\n",
    "    end = default_timer()\n",
    "\n",
    "    dense_result_time.append(end - start)"
   ]
  },
  {
   "cell_type": "code",
   "execution_count": 108,
   "metadata": {},
   "outputs": [
    {
     "data": {
      "text/plain": [
       "[0.43949519994203,\n",
       " 2.337291399948299,\n",
       " 3.9610179000301287,\n",
       " 6.744739899993874,\n",
       " 10.97181549994275,\n",
       " 15.255597000010312,\n",
       " 21.023654000018723,\n",
       " 26.789970999932848,\n",
       " 36.65643250010908,\n",
       " 42.17384870001115]"
      ]
     },
     "execution_count": 108,
     "metadata": {},
     "output_type": "execute_result"
    }
   ],
   "source": [
    "square_result_time"
   ]
  },
  {
   "cell_type": "code",
   "execution_count": 109,
   "metadata": {},
   "outputs": [
    {
     "data": {
      "text/plain": [
       "[0.6500585000030696,\n",
       " 3.1744943000376225,\n",
       " 6.917026200098917,\n",
       " 13.212547900038771,\n",
       " 24.51464529999066,\n",
       " 39.624999699997716,\n",
       " 61.37083390005864,\n",
       " 100.44615850003902,\n",
       " 123.28025940002408,\n",
       " 165.2092228999827]"
      ]
     },
     "execution_count": 109,
     "metadata": {},
     "output_type": "execute_result"
    }
   ],
   "source": [
    "dense_result_time"
   ]
  },
  {
   "cell_type": "code",
   "execution_count": 110,
   "metadata": {},
   "outputs": [],
   "source": [
    "import seaborn as sns"
   ]
  },
  {
   "cell_type": "code",
   "execution_count": 113,
   "metadata": {},
   "outputs": [
    {
     "name": "stderr",
     "output_type": "stream",
     "text": [
      "c:\\Users\\manue\\miniconda3\\envs\\ExtendedKproto\\lib\\site-packages\\seaborn\\_oldcore.py:1119: FutureWarning: use_inf_as_na option is deprecated and will be removed in a future version. Convert inf values to NaN before operating instead.\n",
      "  with pd.option_context('mode.use_inf_as_na', True):\n",
      "c:\\Users\\manue\\miniconda3\\envs\\ExtendedKproto\\lib\\site-packages\\seaborn\\_oldcore.py:1119: FutureWarning: use_inf_as_na option is deprecated and will be removed in a future version. Convert inf values to NaN before operating instead.\n",
      "  with pd.option_context('mode.use_inf_as_na', True):\n",
      "c:\\Users\\manue\\miniconda3\\envs\\ExtendedKproto\\lib\\site-packages\\seaborn\\_oldcore.py:1119: FutureWarning: use_inf_as_na option is deprecated and will be removed in a future version. Convert inf values to NaN before operating instead.\n",
      "  with pd.option_context('mode.use_inf_as_na', True):\n",
      "c:\\Users\\manue\\miniconda3\\envs\\ExtendedKproto\\lib\\site-packages\\seaborn\\_oldcore.py:1119: FutureWarning: use_inf_as_na option is deprecated and will be removed in a future version. Convert inf values to NaN before operating instead.\n",
      "  with pd.option_context('mode.use_inf_as_na', True):\n"
     ]
    },
    {
     "data": {
      "text/plain": [
       "<Axes: >"
      ]
     },
     "execution_count": 113,
     "metadata": {},
     "output_type": "execute_result"
    },
    {
     "data": {
      "image/png": "[encoded data removed]",
      "text/plain": [
       "<Figure size 640x480 with 1 Axes>"
      ]
     },
     "metadata": {},
     "output_type": "display_data"
    }
   ],
   "source": [
    "sns.lineplot(square_result_time, color='red')\n",
    "sns.lineplot(dense_result_time, color='blue')"
   ]
  },
  {
   "cell_type": "markdown",
   "metadata": {},
   "source": [
    "**Conclusion:** for the purposes of extensively calculating the sum of distances to all other objects, the squareform transformation is preferrable to finding the indexes for all pairwise distances in the dense vector per item. Welp! Doing some O notation calculations would have shown this before I had to code it all. The exercise in vectorization has been pretty nice though. If we only had to look up some specific subset of observations, using the dense form may be more memory efficient."
   ]
  },
  {
   "cell_type": "markdown",
   "metadata": {},
   "source": [
    "## Some Experimentation"
   ]
  },
  {
   "cell_type": "code",
   "execution_count": null,
   "metadata": {},
   "outputs": [],
   "source": []
  }
 ],
 "metadata": {
  "kernelspec": {
   "display_name": "ExtendedKproto",
   "language": "python",
   "name": "python3"
  },
  "language_info": {
   "codemirror_mode": {
    "name": "ipython",
    "version": 3
   },
   "file_extension": ".py",
   "mimetype": "text/x-python",
   "name": "python",
   "nbconvert_exporter": "python",
   "pygments_lexer": "ipython3",
   "version": "3.10.14"
  }
 },
 "nbformat": 4,
 "nbformat_minor": 2
}
