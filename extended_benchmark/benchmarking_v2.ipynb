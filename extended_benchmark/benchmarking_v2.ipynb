{
 "cells": [
  {
   "cell_type": "markdown",
   "metadata": {},
   "source": [
    "# Benchmarking Experiments for Extended K-Prototypes (Paper Versions)"
   ]
  },
  {
   "cell_type": "markdown",
   "metadata": {},
   "source": [
    "Variations on the experimental structure of the original extension as presented for the undergraduate thesis of the author."
   ]
  },
  {
   "cell_type": "code",
   "execution_count": null,
   "metadata": {},
   "outputs": [],
   "source": [
    "import os\n",
    "import sys\n",
    "current_dir = os.getcwd()\n",
    "\n",
    "# Get the absolute path of the parent directory\n",
    "parent_dir = os.path.abspath(os.path.join(current_dir, os.pardir))\n",
    "sys.path.append(parent_dir)\n",
    "\n",
    "from random import randint\n",
    "from typing import Any\n",
    "\n",
    "import pandas as pd\n",
    "\n",
    "from benchmark_extension import Experiment"
   ]
  },
  {
   "cell_type": "markdown",
   "metadata": {},
   "source": [
    "Data generation has been changed to follow a probabilistic approach for the generation of the categorical and multi-valued attributes.  \n",
    "  \n",
    "Categorical attributes are sampled from a user-defined distribution of categorical items.  \n",
    "  \n",
    "Multi-valued attributes are sampled using a tree of conditional probability per cluster to simulate the way in which some items of multi-valued attributes tend to appear in common with others. This is preferred to repeating the approach pursued for categorical variables to better represent real-life conditions that practitioners may face."
   ]
  },
  {
   "cell_type": "code",
   "execution_count": null,
   "metadata": {},
   "outputs": [],
   "source": [
    "sample_configuration = {\n",
    "    'n_samples': 2000,\n",
    "    'n_clusters': 3,\n",
    "    'class_weights': [0.33, 0.33],\n",
    "    # Numeric Features\n",
    "    'n_numeric_features': 5,\n",
    "    'separability': 3.0,\n",
    "    'noise': 0.01,\n",
    "    # Categroical Features\n",
    "    'n_categorical_features': 5,\n",
    "    'categorical_cardinalities': [6, 6, 6, 6, 6],\n",
    "    'category distributions':[[],\n",
    "                              [],\n",
    "                              [],\n",
    "                              [],\n",
    "                              []],\n",
    "    # Multi-valued Features\n",
    "    'n_multival_features': 5,\n",
    "    'probability_trees': [],\n",
    "    # Approach Settings\n",
    "    'approach_settings': {\n",
    "        'naive': {\n",
    "            'gamma': None\n",
    "        },\n",
    "        'one-hot': {\n",
    "            'gamma': None,\n",
    "            'max_dummies': 100\n",
    "        },\n",
    "        'one-hot-pca': {\n",
    "            'gamma': None,\n",
    "            'reduced_dimensions': 0.25\n",
    "        },\n",
    "        'extended': {\n",
    "            'gamma_c': 0.33,\n",
    "            'gamma_m': 0.33,\n",
    "            'theta': 0.001\n",
    "        }\n",
    "    }\n",
    "}"
   ]
  }
 ],
 "metadata": {
  "kernelspec": {
   "display_name": "ExtendedKproto",
   "language": "python",
   "name": "python3"
  },
  "language_info": {
   "name": "python",
   "version": "3.10.14"
  }
 },
 "nbformat": 4,
 "nbformat_minor": 2
}
