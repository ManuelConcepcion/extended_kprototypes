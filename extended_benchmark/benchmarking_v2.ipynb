{
 "cells": [
  {
   "cell_type": "markdown",
   "metadata": {},
   "source": [
    "# Benchmarking Experiments for Extended K-Prototypes (Paper Versions)"
   ]
  },
  {
   "cell_type": "markdown",
   "metadata": {},
   "source": [
    "Variations on the experimental structure of the original extension as presented for the undergraduate thesis of the author."
   ]
  },
  {
   "cell_type": "code",
   "execution_count": null,
   "metadata": {},
   "outputs": [],
   "source": [
    "import os\n",
    "import sys\n",
    "current_dir = os.getcwd()\n",
    "\n",
    "# Get the absolute path of the parent directory\n",
    "parent_dir = os.path.abspath(os.path.join(current_dir, os.pardir))\n",
    "sys.path.append(parent_dir)\n",
    "\n",
    "from random import randint\n",
    "from typing import Any\n",
    "\n",
    "import pandas as pd\n",
    "\n",
    "from benchmark_extension import Experiment"
   ]
  },
  {
   "cell_type": "markdown",
   "metadata": {},
   "source": [
    "Data generation has been changed to follow a probabilistic approach for the generation of the categorical and multi-valued attributes.  \n",
    "  \n",
    "Categorical attributes are sampled from a user-defined distribution of categorical items.  \n",
    "  \n",
    "Multi-valued attributes are sampled using a tree of conditional probability per cluster to simulate the way in which some items of multi-valued attributes tend to appear in common with others. This is preferred to repeating the approach pursued for categorical variables to better represent real-life conditions that practitioners may face."
   ]
  },
  {
   "cell_type": "code",
   "execution_count": null,
   "metadata": {},
   "outputs": [],
   "source": [
    "sample_configuration = {\n",
    "    'n_samples': 2000,\n",
    "    'n_clusters': 3,\n",
    "    'class_weights': [0.33, 0.33],\n",
    "    # Numeric Features\n",
    "    'n_numeric_features': 5,\n",
    "    'separability': 3.0,\n",
    "    'noise': 0.01,\n",
    "    # Categroical Features\n",
    "    'n_categorical_features': 5,\n",
    "    'categorical_cardinalities': [6, 6, 6, 6, 6],\n",
    "    'category_distributions':(\n",
    "        [\n",
    "            [0.4, 0.4, 0.05, 0.05, 0.05],\n",
    "            [0.4, 0.4, 0.05, 0.05, 0.05],\n",
    "            [0.4, 0.4, 0.05, 0.05, 0.05],\n",
    "            [0.4, 0.4, 0.05, 0.05, 0.05],\n",
    "            [0.4, 0.4, 0.05, 0.05, 0.05]],\n",
    "        [\n",
    "            [0.05, 0.05, 0.4, 0.4, 0.05],\n",
    "            [0.05, 0.05, 0.4, 0.4, 0.05],\n",
    "            [0.05, 0.05, 0.4, 0.4, 0.05],\n",
    "            [0.05, 0.05, 0.4, 0.4, 0.05],\n",
    "            [0.05, 0.05, 0.4, 0.4, 0.05]],\n",
    "        [\n",
    "            [0.05, 0.05, 0.05, 0.05, 0.4],\n",
    "            [0.05, 0.05, 0.05, 0.05, 0.4],\n",
    "            [0.05, 0.05, 0.05, 0.05, 0.4],\n",
    "            [0.05, 0.05, 0.05, 0.05, 0.4],\n",
    "            [0.05, 0.05, 0.05, 0.05, 0.4]]\n",
    "    ),\n",
    "    # Multi-valued Features\n",
    "    'n_multival_features': 5,\n",
    "    'probability_trees': [],\n",
    "    # Approach Settings\n",
    "    'approach_settings': {\n",
    "        'naive': {\n",
    "            'gamma': None\n",
    "        },\n",
    "        'one-hot': {\n",
    "            'gamma': None,\n",
    "            'max_dummies': 100\n",
    "        },\n",
    "        'one-hot-pca': {\n",
    "            'gamma': None,\n",
    "            'reduced_dimensions': 0.25\n",
    "        },\n",
    "        'extended': {\n",
    "            'gamma_c': 0.33,\n",
    "            'gamma_m': 0.33,\n",
    "            'theta': 0.001\n",
    "        }\n",
    "    }\n",
    "}"
   ]
  },
  {
   "cell_type": "markdown",
   "metadata": {},
   "source": [
    "The sample configuration includes a bi-modal distribution for each categorical attribute that modifies the modes for each cluster. Harder-to-cluster configurations where some elements are modal in more than one cluster or where some levels are never modal could be tried."
   ]
  },
  {
   "cell_type": "markdown",
   "metadata": {},
   "source": [
    "**Input Rules**:  \n",
    "\n",
    "- Class weights should be of length `n_clusters - 1`. The missing weight will be calculated with `1 - sum(class_weights)`.\n",
    "\n",
    "- Length of `categorical_cardinalities` equal to `n_categorical_features`.\n",
    "\n",
    "- Length of `category_distributions` should be equal to `n_clusters`. Each item is a list of lists specifying a categorical distribution for each categorical attribute describing the categorical characteristics of the cluster.\n",
    "  \n",
    "- Each item in `category_distributions` should include a list per categorical attribute containing the sampling probabilities for each category (as defined in `categorical_cardinalities` minus one) in the attribute. The probabilities should sum up to less than one. The probability for the missing category will be calculated as `1 - sum(distribution)`.\n",
    "  \n",
    "- Length of `probability_trees` should be equal to `n_multival_features`.\n",
    "  \n",
    "- The probabilities of the children of each node in each ``tree`` of ``probability_trees`` should sum up to one. Rule does not apply to leafs.\n",
    "  \n",
    "- In `approach_settings`, the field `reduced_dimensions` in `one-hot-pca` must be a float in the open interval $(0, 1)$.\n",
    "  \n",
    "- In `approach_settings`, the field the gamma fields in `extended` must be floats in the interval $[0, 1)$ and not sum up to more than one. "
   ]
  }
 ],
 "metadata": {
  "kernelspec": {
   "display_name": "ExtendedKproto",
   "language": "python",
   "name": "python3"
  },
  "language_info": {
   "name": "python",
   "version": "3.10.14"
  }
 },
 "nbformat": 4,
 "nbformat_minor": 2
}
