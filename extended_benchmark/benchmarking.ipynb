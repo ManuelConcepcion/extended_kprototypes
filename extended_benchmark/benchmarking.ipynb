{
 "cells": [
  {
   "cell_type": "code",
   "execution_count": 2,
   "metadata": {},
   "outputs": [],
   "source": [
    "import os\n",
    "import sys\n",
    "current_dir = os.getcwd()\n",
    "\n",
    "# Get the absolute path of the parent directory\n",
    "parent_dir = os.path.abspath(os.path.join(current_dir, os.pardir))\n",
    "sys.path.append(parent_dir)\n",
    "\n",
    "from benchmark_extension import Experiment"
   ]
  },
  {
   "cell_type": "code",
   "execution_count": 3,
   "metadata": {},
   "outputs": [],
   "source": [
    "sample_difficulty_configurations = {\n",
    "     'easy': {\n",
    "             'n_samples': 2000,\n",
    "             'n_clusters': 3,\n",
    "             # Features\n",
    "             'n_numeric_features': 5,\n",
    "             'n_categorical_features': 5,\n",
    "             'categorical_cardinalities': [6, 6, 6, 6, 6],\n",
    "             'n_multival_features': 5,\n",
    "             'multival_vocab_lens': [(3, 3, 3),  # How many vocab items\n",
    "                                     (3, 3, 3),  # are associated to a\n",
    "                                     (3, 3, 3),  # cluster.\n",
    "                                     (3, 3, 3),\n",
    "                                     (3, 3, 3)],\n",
    "             # Difficulty params\n",
    "             'separability': 3.0,\n",
    "             'multival_intersections': 1,\n",
    "             'noise': 0.01,\n",
    "             'class_weights': [0.33, 0.33],\n",
    "             # Approach Settings\n",
    "             'approach_settings': {\n",
    "                'naive': {\n",
    "                    'gamma': None\n",
    "                },\n",
    "                'one-hot': {\n",
    "                    'gamma': None,\n",
    "                    'max_dummies': 100\n",
    "                },\n",
    "                'one-hot-pca': {\n",
    "                    'gamma': None,\n",
    "                    'reduced_dimensions': 0.25\n",
    "                },\n",
    "                'extended': {\n",
    "                    'gamma_c': 0.33,\n",
    "                    'gamma_m': 0.33,\n",
    "                    'theta': 0.001\n",
    "                }\n",
    "               },\n",
    "              },\n",
    "     'medium': None,\n",
    "     'hard': None\n",
    "}"
   ]
  },
  {
   "cell_type": "code",
   "execution_count": 4,
   "metadata": {},
   "outputs": [],
   "source": [
    "exp = Experiment(benchmarking_config=sample_difficulty_configurations['easy'],\n",
    "                 approaches=('naive', 'one-hot', 'one-hot-pca', 'extended'),\n",
    "                 random_state=42)"
   ]
  },
  {
   "cell_type": "code",
   "execution_count": 6,
   "metadata": {},
   "outputs": [
    {
     "data": {
      "text/plain": [
       "{'naive': {'preprocess_time': 53.063958299928345,\n",
       "  'clustering_time': 7.014619899913669,\n",
       "  'n_iter': 3,\n",
       "  'MIS': 0.9698692316348873,\n",
       "  'ARI': 0.9850825134727914},\n",
       " 'one-hot': {'preprocess_time': 1.7945154000772163,\n",
       "  'clustering_time': 9.816090199979953,\n",
       "  'n_iter': 2,\n",
       "  'MIS': 0.9792480118880699,\n",
       "  'ARI': 0.9895642142025028},\n",
       " 'one-hot-pca': {'preprocess_time': 1.653402900090441,\n",
       "  'clustering_time': 6.0099358999868855,\n",
       "  'n_iter': 3,\n",
       "  'MIS': 0.9724181956910335,\n",
       "  'ARI': 0.9865824602432615},\n",
       " 'extended': {'preprocess_time': 0.0001610000617802143,\n",
       "  'clustering_time': 22.83420969999861,\n",
       "  'n_iter': 3,\n",
       "  'MIS': 0.9698692316348873,\n",
       "  'ARI': 0.9850825134727914}}"
      ]
     },
     "execution_count": 6,
     "metadata": {},
     "output_type": "execute_result"
    }
   ],
   "source": [
    "exp.run_experiment()"
   ]
  }
 ],
 "metadata": {
  "kernelspec": {
   "display_name": "ExtendedKproto",
   "language": "python",
   "name": "python3"
  },
  "language_info": {
   "codemirror_mode": {
    "name": "ipython",
    "version": 3
   },
   "file_extension": ".py",
   "mimetype": "text/x-python",
   "name": "python",
   "nbconvert_exporter": "python",
   "pygments_lexer": "ipython3",
   "version": "3.10.14"
  }
 },
 "nbformat": 4,
 "nbformat_minor": 2
}
