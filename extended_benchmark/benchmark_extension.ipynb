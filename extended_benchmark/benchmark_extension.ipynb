{
 "cells": [
  {
   "cell_type": "code",
   "execution_count": 1,
   "metadata": {},
   "outputs": [],
   "source": [
    "import numpy as np\n",
    "import pandas as pd\n",
    "from itertools import combinations_with_replacement\n",
    "\n",
    "from sklearn.datasets import make_classification"
   ]
  },
  {
   "cell_type": "markdown",
   "metadata": {},
   "source": [
    "## Generate data"
   ]
  },
  {
   "cell_type": "code",
   "execution_count": 2,
   "metadata": {},
   "outputs": [],
   "source": [
    "from random import randint\n",
    "\n",
    "# random_states = [randint(0, 100) for x in range(100)]\n",
    "\n",
    "random_states = [69, 11, 97, 19, 72, 38, 78, 36, 16, 3, 53, 76, 74, 78, 8, 99,\n",
    "                 45, 23, 58, 68, 1, 40, 52, 51, 95, 73, 64, 84, 38, 39, 82, 60,\n",
    "                 11, 97, 12, 10, 91, 44, 46, 65, 51, 59, 26, 94, 26, 40, 99, 8,\n",
    "                 47, 27, 42, 1, 87, 7, 98, 31, 9, 27, 44, 42, 24, 18, 69, 100,\n",
    "                 85, 46, 33, 16, 47, 70, 9, 13, 73, 53, 87, 51, 72, 22, 93, 61,\n",
    "                 33, 92, 50, 20, 65, 67, 74, 9, 75, 0, 61, 10, 99, 30, 52, 80,\n",
    "                 10, 2, 83, 58]"
   ]
  },
  {
   "cell_type": "markdown",
   "metadata": {},
   "source": [
    "### Configuration and input verification"
   ]
  },
  {
   "cell_type": "code",
   "execution_count": 3,
   "metadata": {},
   "outputs": [],
   "source": [
    "CONFIG = {\n",
    "    'easy':{\n",
    "        'n_samples': 2000,\n",
    "        'n_clusters': 3,\n",
    "        # Features\n",
    "        'n_numeric_features': 5,\n",
    "        'n_categorical_features': 5,\n",
    "        'categorical_cardinalities': [6, 6, 6, 6, 6],\n",
    "        'n_multival_features': 5,\n",
    "        'multival_subvocab_lengths': [(3, 3, 3),  # How many vocab items are\n",
    "                                      (3, 3, 3),  # associated to a cluster.\n",
    "                                      (3, 3, 3),\n",
    "                                      (3, 3, 3),\n",
    "                                      (3, 3, 3)],\n",
    "        # Difficulty params\n",
    "        'separability': 3.0,\n",
    "        'multival_intersections': 1,\n",
    "        'noise': 0.01,\n",
    "        'class_weights': [0.33, 0.33],\n",
    "        # Clustering Algo Settings\n",
    "        'gamma_c':0.33,\n",
    "        'gamma_m':0.33,\n",
    "        'theta':0.001    \n",
    "    }\n",
    "}"
   ]
  },
  {
   "cell_type": "code",
   "execution_count": 4,
   "metadata": {},
   "outputs": [],
   "source": [
    "PARAM_GUIDE = {\n",
    "    'n_samples': int,\n",
    "    'n_clusters': int,\n",
    "    # Numeric features\n",
    "    'n_numeric_features': int,\n",
    "    # Categorical features\n",
    "    'n_categorical_features': int,\n",
    "    'categorical_cardinalities': list,\n",
    "    # Multi-valued features\n",
    "    'n_multival_features': int,\n",
    "    'multival_subvocab_lengths': list,\n",
    "    # Difficulty params\n",
    "    'separability': float,\n",
    "    'multival_intersections': int,\n",
    "    'noise': float,\n",
    "    'class_weights': list,\n",
    "    'gamma_c': float,\n",
    "    'gamma_m': float,\n",
    "    'theta': float\n",
    "}"
   ]
  },
  {
   "cell_type": "code",
   "execution_count": 5,
   "metadata": {},
   "outputs": [
    {
     "data": {
      "text/plain": [
       "{'n_samples': 2000,\n",
       " 'n_clusters': 3,\n",
       " 'n_numeric_features': 5,\n",
       " 'n_categorical_features': 5,\n",
       " 'categorical_cardinalities': [6, 6, 6, 6, 6],\n",
       " 'n_multival_features': 5,\n",
       " 'multival_subvocab_lengths': [(3, 3, 3),\n",
       "  (3, 3, 3),\n",
       "  (3, 3, 3),\n",
       "  (3, 3, 3),\n",
       "  (3, 3, 3)],\n",
       " 'separability': 3.0,\n",
       " 'multival_intersections': 1,\n",
       " 'noise': 0.01,\n",
       " 'class_weights': [0.33, 0.33],\n",
       " 'gamma_c': 0.33,\n",
       " 'gamma_m': 0.33,\n",
       " 'theta': 0.001}"
      ]
     },
     "execution_count": 5,
     "metadata": {},
     "output_type": "execute_result"
    }
   ],
   "source": [
    "config_dict = CONFIG['easy']\n",
    "\n",
    "def validate_config(config_dict, param_guide=PARAM_GUIDE):\n",
    "    try:\n",
    "        for param in param_guide.keys():\n",
    "            if not isinstance(config_dict[param], param_guide[param]):\n",
    "                raise ValueError(f\"Parameter {param} should be an integer.\")\n",
    "    except KeyError as e:\n",
    "        print(f\"Missing key {param} in the configuration dict.\")\n",
    "        raise e\n",
    "    \n",
    "    # Length checks\n",
    "    if len(config_dict['class_weights']) != config_dict['n_clusters']:\n",
    "        if (len(config_dict['class_weights']) !=\n",
    "            config_dict['n_clusters']-1):\n",
    "            raise ValueError(\"A number of class_weights equal to the number of \"\n",
    "                            \"clusters or the number of clusters minus one \"\n",
    "                            \"must be provided. List had size \"\n",
    "                            f\"{len(config_dict['class_weights'])}.\")\n",
    "    \n",
    "    if len(config_dict['categorical_cardinalities']) != config_dict['n_categorical_features']:\n",
    "        raise ValueError(\"A cardinality must be provided for every \"\n",
    "                         f\"categorical attribute. {len(config_dict['categorical_cardinalities'])} cardinalities \"\n",
    "                         f\"were provided for {config_dict['n_categorical_features']} attributes.\")\n",
    "    if len(config_dict['multival_subvocab_lengths']) != config_dict['n_multival_features']:\n",
    "        raise ValueError(\"A vocabulary length must be provided for every \"\n",
    "                         f\"multi-valued attribute. {len(config_dict['multival_subvocab_length'])} vocabulary length list-likes \"\n",
    "                         f\"were provided for {config_dict['n_multival_features']} attributes.\")\n",
    "    \n",
    "    for card in config_dict['categorical_cardinalities']:\n",
    "        if card < config_dict['n_clusters']:\n",
    "            raise ValueError(\"Categorical attribute cardinalities cannot be lower than n_clusters.\")\n",
    "    \n",
    "    \n",
    "    for card_tuple in config_dict['multival_subvocab_lengths']:\n",
    "        if len(card_tuple) != config_dict['n_clusters']:\n",
    "            raise ValueError(\"A sub-vocabulary length must be provided for each cluster. \"\n",
    "                             f\"{card_tuple} was provided without the required length {config_dict['n_clusters']}\")\n",
    "        \n",
    "    if config_dict['gamma_m']+config_dict['gamma_c'] >= 1.0:\n",
    "        raise ValueError(\"Extended K-Prototypes gamma values should sum to \"\n",
    "                         \"be less than 1.0. Provided values sum up to \"\n",
    "                         f\"{config_dict['gamma_m']+config_dict['gamma_c']}.\")\n",
    "        \n",
    "    return config_dict\n",
    "\n",
    "\n",
    "config_dict = validate_config(config_dict=config_dict)\n",
    "config_dict"
   ]
  },
  {
   "cell_type": "markdown",
   "metadata": {},
   "source": [
    "Done!"
   ]
  },
  {
   "cell_type": "markdown",
   "metadata": {},
   "source": [
    "### Generate the data"
   ]
  },
  {
   "cell_type": "code",
   "execution_count": 6,
   "metadata": {},
   "outputs": [],
   "source": [
    "xnum, y_true = make_classification(\n",
    "    n_samples=config_dict['n_samples'],\n",
    "    n_features=config_dict['n_numeric_features'],\n",
    "    n_informative=config_dict['n_numeric_features'],\n",
    "    n_redundant=0,\n",
    "    n_repeated=0,\n",
    "    n_classes=config_dict['n_clusters'],\n",
    "    n_clusters_per_class=1,\n",
    "    weights=config_dict['class_weights'],\n",
    "    flip_y=config_dict['noise'],\n",
    "    class_sep=config_dict['separability'],\n",
    "    random_state=random_states[0]\n",
    "    )"
   ]
  },
  {
   "cell_type": "code",
   "execution_count": 7,
   "metadata": {},
   "outputs": [],
   "source": [
    "# Creation of categories\n",
    "def assign_categorical_features(class_labels:np.ndarray,\n",
    "                                # n_categorical:int,\n",
    "                                cardinalities:list,\n",
    "                                random_state):\n",
    "    n_clusters = len(np.unique(class_labels))\n",
    "    random_generator = np.random.default_rng(seed=random_state)\n",
    "    cluster_classes_keys = []\n",
    "    categorical_attribute_arrays = []\n",
    "\n",
    "    for card in cardinalities:\n",
    "        cluster_to_class = dict()\n",
    "        \n",
    "        extra_levels = card % n_clusters\n",
    "        levels_per_cluster = (card - extra_levels) / n_clusters\n",
    "        curr_level = 0\n",
    "        \n",
    "        for clust in np.unique(class_labels):\n",
    "            # curr_level += 1\n",
    "            cluster_to_class[clust] = []\n",
    "            # assert (card - extra_levels) % n_clusters == 0\n",
    "            \n",
    "            for level in range(int(levels_per_cluster)):\n",
    "                cluster_to_class[clust].append(curr_level+level)\n",
    "            curr_level += 2\n",
    "        \n",
    "        # Assign the extra levels at random\n",
    "        if extra_levels:\n",
    "            for extra_level in range(extra_levels):\n",
    "                clust = random_generator.choice(class_labels)\n",
    "                cluster_to_class[clust].append(curr_level+extra_level)\n",
    "\n",
    "        # For items belonging to a given label, assign it a level from the dict\n",
    "        attribute = np.zeros(class_labels.shape[0], dtype=np.int32)\n",
    "        for i_label, label in enumerate(class_labels):\n",
    "            attribute[i_label] = random_generator.choice(cluster_to_class[label])\n",
    "        \n",
    "        categorical_attribute_arrays.append(attribute)\n",
    "        cluster_classes_keys.append(cluster_to_class)\n",
    "\n",
    "    return np.stack(categorical_attribute_arrays, axis=1), cluster_classes_keys"
   ]
  },
  {
   "cell_type": "code",
   "execution_count": 8,
   "metadata": {},
   "outputs": [
    {
     "data": {
      "text/plain": [
       "array([[4, 4, 5, 4, 4],\n",
       "       [3, 3, 3, 3, 3],\n",
       "       [1, 1, 0, 1, 0],\n",
       "       ...,\n",
       "       [3, 3, 2, 3, 2],\n",
       "       [0, 1, 0, 1, 1],\n",
       "       [0, 0, 1, 1, 1]])"
      ]
     },
     "execution_count": 8,
     "metadata": {},
     "output_type": "execute_result"
    }
   ],
   "source": [
    "xcat, cat_guide = assign_categorical_features(class_labels=y_true,\n",
    "                                   cardinalities=config_dict['categorical_cardinalities'],\n",
    "                                   random_state=random_states[0])\n",
    "\n",
    "xcat"
   ]
  },
  {
   "cell_type": "code",
   "execution_count": 9,
   "metadata": {},
   "outputs": [
    {
     "data": {
      "text/plain": [
       "array([2, 1, 0, ..., 1, 0, 0])"
      ]
     },
     "execution_count": 9,
     "metadata": {},
     "output_type": "execute_result"
    }
   ],
   "source": [
    "y_true"
   ]
  },
  {
   "cell_type": "code",
   "execution_count": 10,
   "metadata": {},
   "outputs": [
    {
     "data": {
      "text/plain": [
       "[{0: [0, 1], 1: [2, 3], 2: [4, 5]},\n",
       " {0: [0, 1], 1: [2, 3], 2: [4, 5]},\n",
       " {0: [0, 1], 1: [2, 3], 2: [4, 5]},\n",
       " {0: [0, 1], 1: [2, 3], 2: [4, 5]},\n",
       " {0: [0, 1], 1: [2, 3], 2: [4, 5]}]"
      ]
     },
     "execution_count": 10,
     "metadata": {},
     "output_type": "execute_result"
    }
   ],
   "source": [
    "cat_guide"
   ]
  },
  {
   "cell_type": "code",
   "execution_count": 11,
   "metadata": {},
   "outputs": [
    {
     "data": {
      "text/plain": [
       "array([[-2.60269058, -4.22476144,  3.45997033,  2.51034261,  2.93075784],\n",
       "       [-0.1970824 , -3.10772864,  3.41599443,  6.02866969,  5.15555844],\n",
       "       [-2.02381431,  3.14839166, -3.1550843 , -2.60587041, -1.76495351],\n",
       "       ...,\n",
       "       [ 3.89419075, -3.62263262,  3.72557832,  4.0990099 ,  1.46300835],\n",
       "       [-2.25330148,  2.14794198, -3.15144734, -2.05743312, -2.78488292],\n",
       "       [-2.42299465,  1.83934959, -2.3255219 , -4.04454782, -2.95657787]])"
      ]
     },
     "execution_count": 11,
     "metadata": {},
     "output_type": "execute_result"
    }
   ],
   "source": [
    "xnum"
   ]
  },
  {
   "cell_type": "code",
   "execution_count": 12,
   "metadata": {},
   "outputs": [
    {
     "data": {
      "text/plain": [
       "array([2, 1, 0, ..., 1, 0, 0])"
      ]
     },
     "execution_count": 12,
     "metadata": {},
     "output_type": "execute_result"
    }
   ],
   "source": [
    "y_true"
   ]
  },
  {
   "cell_type": "code",
   "execution_count": 13,
   "metadata": {},
   "outputs": [
    {
     "data": {
      "text/plain": [
       "{'n_samples': 2000,\n",
       " 'n_clusters': 3,\n",
       " 'n_numeric_features': 5,\n",
       " 'n_categorical_features': 5,\n",
       " 'categorical_cardinalities': [6, 6, 6, 6, 6],\n",
       " 'n_multival_features': 5,\n",
       " 'multival_subvocab_lengths': [(3, 3, 3),\n",
       "  (3, 3, 3),\n",
       "  (3, 3, 3),\n",
       "  (3, 3, 3),\n",
       "  (3, 3, 3)],\n",
       " 'separability': 3.0,\n",
       " 'multival_intersections': 1,\n",
       " 'noise': 0.01,\n",
       " 'class_weights': [0.33, 0.33],\n",
       " 'gamma_c': 0.33,\n",
       " 'gamma_m': 0.33,\n",
       " 'theta': 0.001}"
      ]
     },
     "execution_count": 13,
     "metadata": {},
     "output_type": "execute_result"
    }
   ],
   "source": [
    "config_dict"
   ]
  },
  {
   "cell_type": "code",
   "execution_count": 14,
   "metadata": {},
   "outputs": [],
   "source": [
    "# Creation of multi-valued attributes\n",
    "def assign_multi_valued_features(class_labels:np.ndarray,\n",
    "                                 subvocab_lengths:list,\n",
    "                                 level_of_intersection:int) -> np.ndarray:\n",
    "    \"\"\"\n",
    "    Create multi-valued attributes from class labels, the lengths of the \n",
    "    vocabulary subsets that are assigned to each label, and the degree to which\n",
    "    pairwise clusters should have intersections.\n",
    "    \n",
    "    Arguments\n",
    "    ---------\n",
    "    level_of_intersection:int\n",
    "        The level of intersection refers to the number of items in the \n",
    "        vocabulary that are common to cluster pairs. The higher it is relative \n",
    "        to the sub-vocabulary lenghts, the lower the distance between clusters \n",
    "        in relation to their multi-valued attributes will be.\n",
    "    \"\"\"\n",
    "    clusters = np.unique(class_labels)\n",
    "    attribute_label_dicts = []\n",
    "    multi_valued_attribute_arrays = []\n",
    "\n",
    "    for subvocab in subvocab_lengths:   # Iterate over n_multival, implicitly\n",
    "        total_attribute_vocabulary = {-1}\n",
    "        label_vocab_dict = dict().fromkeys(clusters)\n",
    "\n",
    "        for clust in clusters:\n",
    "            label_vocab_dict[clust] = set()\n",
    "            subvocab_clust_l = subvocab[clust]\n",
    "            \n",
    "            \n",
    "            for item in range(max(total_attribute_vocabulary) + 1,\n",
    "                              max(total_attribute_vocabulary) +\n",
    "                                subvocab_clust_l + 1):\n",
    "                label_vocab_dict[clust].add(item)\n",
    "                total_attribute_vocabulary.add(item)\n",
    "        \n",
    "        total_attribute_vocabulary.remove(-1)\n",
    "\n",
    "        # Add the pairwise intersections\n",
    "        if level_of_intersection > 0:\n",
    "            for cluster_pair in [clust_comb for clust_comb in\n",
    "                                 combinations_with_replacement(clusters, 2)\n",
    "                                 if clust_comb[0] != clust_comb[1]]:\n",
    "                for item in range(max(total_attribute_vocabulary) + 1,\n",
    "                                  max(total_attribute_vocabulary) +\n",
    "                                    level_of_intersection + 1):\n",
    "                    \n",
    "                    label_vocab_dict[cluster_pair[0]].add(item)\n",
    "                    label_vocab_dict[cluster_pair[1]].add(item)\n",
    "                    total_attribute_vocabulary.add(item)\n",
    "        \n",
    "        attribute_label_dicts.append(label_vocab_dict)\n",
    "\n",
    "        # Now build, for each attribute, the array containing the observations\n",
    "        attribute = np.zeros(class_labels.shape[0], dtype=np.object_)\n",
    "        for i_label, label in enumerate(class_labels):\n",
    "            attribute[i_label] = label_vocab_dict[label]\n",
    "        \n",
    "        multi_valued_attribute_arrays.append(attribute)\n",
    "            \n",
    "    return (np.stack(multi_valued_attribute_arrays, axis=1),\n",
    "            attribute_label_dicts)\n",
    "    "
   ]
  },
  {
   "cell_type": "code",
   "execution_count": 15,
   "metadata": {},
   "outputs": [],
   "source": [
    "xmulti, multi_guide = assign_multi_valued_features(class_labels=y_true,\n",
    "                                                   subvocab_lengths=config_dict['multival_subvocab_lengths'],\n",
    "                                                   level_of_intersection=config_dict['multival_intersections'])\n"
   ]
  },
  {
   "cell_type": "code",
   "execution_count": 16,
   "metadata": {},
   "outputs": [
    {
     "data": {
      "text/plain": [
       "array([[{6, 7, 8, 10, 11}, {6, 7, 8, 10, 11}, {6, 7, 8, 10, 11},\n",
       "        {6, 7, 8, 10, 11}, {6, 7, 8, 10, 11}],\n",
       "       [{3, 4, 5, 9, 11}, {3, 4, 5, 9, 11}, {3, 4, 5, 9, 11},\n",
       "        {3, 4, 5, 9, 11}, {3, 4, 5, 9, 11}],\n",
       "       [{0, 1, 2, 9, 10}, {0, 1, 2, 9, 10}, {0, 1, 2, 9, 10},\n",
       "        {0, 1, 2, 9, 10}, {0, 1, 2, 9, 10}],\n",
       "       ...,\n",
       "       [{3, 4, 5, 9, 11}, {3, 4, 5, 9, 11}, {3, 4, 5, 9, 11},\n",
       "        {3, 4, 5, 9, 11}, {3, 4, 5, 9, 11}],\n",
       "       [{0, 1, 2, 9, 10}, {0, 1, 2, 9, 10}, {0, 1, 2, 9, 10},\n",
       "        {0, 1, 2, 9, 10}, {0, 1, 2, 9, 10}],\n",
       "       [{0, 1, 2, 9, 10}, {0, 1, 2, 9, 10}, {0, 1, 2, 9, 10},\n",
       "        {0, 1, 2, 9, 10}, {0, 1, 2, 9, 10}]], dtype=object)"
      ]
     },
     "execution_count": 16,
     "metadata": {},
     "output_type": "execute_result"
    }
   ],
   "source": [
    "xmulti"
   ]
  },
  {
   "cell_type": "code",
   "execution_count": 17,
   "metadata": {},
   "outputs": [
    {
     "data": {
      "text/plain": [
       "[{0: {0, 1, 2, 9, 10}, 1: {3, 4, 5, 9, 11}, 2: {6, 7, 8, 10, 11}},\n",
       " {0: {0, 1, 2, 9, 10}, 1: {3, 4, 5, 9, 11}, 2: {6, 7, 8, 10, 11}},\n",
       " {0: {0, 1, 2, 9, 10}, 1: {3, 4, 5, 9, 11}, 2: {6, 7, 8, 10, 11}},\n",
       " {0: {0, 1, 2, 9, 10}, 1: {3, 4, 5, 9, 11}, 2: {6, 7, 8, 10, 11}},\n",
       " {0: {0, 1, 2, 9, 10}, 1: {3, 4, 5, 9, 11}, 2: {6, 7, 8, 10, 11}}]"
      ]
     },
     "execution_count": 17,
     "metadata": {},
     "output_type": "execute_result"
    }
   ],
   "source": [
    "multi_guide"
   ]
  },
  {
   "cell_type": "markdown",
   "metadata": {},
   "source": [
    "Done!"
   ]
  },
  {
   "cell_type": "markdown",
   "metadata": {},
   "source": [
    "### Put Everything Together"
   ]
  },
  {
   "cell_type": "code",
   "execution_count": 18,
   "metadata": {},
   "outputs": [
    {
     "data": {
      "text/plain": [
       "[('num',\n",
       "  array([[-2.60269058, -4.22476144,  3.45997033,  2.51034261,  2.93075784],\n",
       "         [-0.1970824 , -3.10772864,  3.41599443,  6.02866969,  5.15555844],\n",
       "         [-2.02381431,  3.14839166, -3.1550843 , -2.60587041, -1.76495351],\n",
       "         ...,\n",
       "         [ 3.89419075, -3.62263262,  3.72557832,  4.0990099 ,  1.46300835],\n",
       "         [-2.25330148,  2.14794198, -3.15144734, -2.05743312, -2.78488292],\n",
       "         [-2.42299465,  1.83934959, -2.3255219 , -4.04454782, -2.95657787]])),\n",
       " ('cat',\n",
       "  array([[4, 4, 5, 4, 4],\n",
       "         [3, 3, 3, 3, 3],\n",
       "         [1, 1, 0, 1, 0],\n",
       "         ...,\n",
       "         [3, 3, 2, 3, 2],\n",
       "         [0, 1, 0, 1, 1],\n",
       "         [0, 0, 1, 1, 1]])),\n",
       " ('multi',\n",
       "  array([[{6, 7, 8, 10, 11}, {6, 7, 8, 10, 11}, {6, 7, 8, 10, 11},\n",
       "          {6, 7, 8, 10, 11}, {6, 7, 8, 10, 11}],\n",
       "         [{3, 4, 5, 9, 11}, {3, 4, 5, 9, 11}, {3, 4, 5, 9, 11},\n",
       "          {3, 4, 5, 9, 11}, {3, 4, 5, 9, 11}],\n",
       "         [{0, 1, 2, 9, 10}, {0, 1, 2, 9, 10}, {0, 1, 2, 9, 10},\n",
       "          {0, 1, 2, 9, 10}, {0, 1, 2, 9, 10}],\n",
       "         ...,\n",
       "         [{3, 4, 5, 9, 11}, {3, 4, 5, 9, 11}, {3, 4, 5, 9, 11},\n",
       "          {3, 4, 5, 9, 11}, {3, 4, 5, 9, 11}],\n",
       "         [{0, 1, 2, 9, 10}, {0, 1, 2, 9, 10}, {0, 1, 2, 9, 10},\n",
       "          {0, 1, 2, 9, 10}, {0, 1, 2, 9, 10}],\n",
       "         [{0, 1, 2, 9, 10}, {0, 1, 2, 9, 10}, {0, 1, 2, 9, 10},\n",
       "          {0, 1, 2, 9, 10}, {0, 1, 2, 9, 10}]], dtype=object))]"
      ]
     },
     "execution_count": 18,
     "metadata": {},
     "output_type": "execute_result"
    }
   ],
   "source": [
    "all_attributes = [\n",
    "    ('num', xnum),\n",
    "    ('cat', xcat),\n",
    "    ('multi', xmulti)\n",
    "]\n",
    "\n",
    "all_attributes"
   ]
  },
  {
   "cell_type": "code",
   "execution_count": 19,
   "metadata": {},
   "outputs": [],
   "source": [
    "def consolidate_attributes(xlist: list[tuple[str, np.ndarray]]):   \n",
    "    column_dictionary = dict()\n",
    "    index_dict = dict()\n",
    "    \n",
    "    global_index = 0\n",
    "    for attr_type, attr_vals in xlist:\n",
    "        index_dict[attr_type] = []\n",
    "        local_index = 0\n",
    "        \n",
    "        for i_attr in range(attr_vals.shape[1]):\n",
    "            column_dictionary[f'{attr_type}_{local_index}'] = attr_vals[:, i_attr]\n",
    "            index_dict[attr_type].append(global_index)\n",
    "\n",
    "            local_index+=1\n",
    "            global_index+=1\n",
    "        \n",
    "    return pd.DataFrame(column_dictionary), index_dict"
   ]
  },
  {
   "cell_type": "code",
   "execution_count": 20,
   "metadata": {},
   "outputs": [
    {
     "data": {
      "text/html": [
       "<div>\n",
       "<style scoped>\n",
       "    .dataframe tbody tr th:only-of-type {\n",
       "        vertical-align: middle;\n",
       "    }\n",
       "\n",
       "    .dataframe tbody tr th {\n",
       "        vertical-align: top;\n",
       "    }\n",
       "\n",
       "    .dataframe thead th {\n",
       "        text-align: right;\n",
       "    }\n",
       "</style>\n",
       "<table border=\"1\" class=\"dataframe\">\n",
       "  <thead>\n",
       "    <tr style=\"text-align: right;\">\n",
       "      <th></th>\n",
       "      <th>num_0</th>\n",
       "      <th>num_1</th>\n",
       "      <th>num_2</th>\n",
       "      <th>num_3</th>\n",
       "      <th>num_4</th>\n",
       "      <th>cat_0</th>\n",
       "      <th>cat_1</th>\n",
       "      <th>cat_2</th>\n",
       "      <th>cat_3</th>\n",
       "      <th>cat_4</th>\n",
       "      <th>multi_0</th>\n",
       "      <th>multi_1</th>\n",
       "      <th>multi_2</th>\n",
       "      <th>multi_3</th>\n",
       "      <th>multi_4</th>\n",
       "    </tr>\n",
       "  </thead>\n",
       "  <tbody>\n",
       "    <tr>\n",
       "      <th>0</th>\n",
       "      <td>-2.602691</td>\n",
       "      <td>-4.224761</td>\n",
       "      <td>3.459970</td>\n",
       "      <td>2.510343</td>\n",
       "      <td>2.930758</td>\n",
       "      <td>4</td>\n",
       "      <td>4</td>\n",
       "      <td>5</td>\n",
       "      <td>4</td>\n",
       "      <td>4</td>\n",
       "      <td>{6, 7, 8, 10, 11}</td>\n",
       "      <td>{6, 7, 8, 10, 11}</td>\n",
       "      <td>{6, 7, 8, 10, 11}</td>\n",
       "      <td>{6, 7, 8, 10, 11}</td>\n",
       "      <td>{6, 7, 8, 10, 11}</td>\n",
       "    </tr>\n",
       "    <tr>\n",
       "      <th>1</th>\n",
       "      <td>-0.197082</td>\n",
       "      <td>-3.107729</td>\n",
       "      <td>3.415994</td>\n",
       "      <td>6.028670</td>\n",
       "      <td>5.155558</td>\n",
       "      <td>3</td>\n",
       "      <td>3</td>\n",
       "      <td>3</td>\n",
       "      <td>3</td>\n",
       "      <td>3</td>\n",
       "      <td>{3, 4, 5, 9, 11}</td>\n",
       "      <td>{3, 4, 5, 9, 11}</td>\n",
       "      <td>{3, 4, 5, 9, 11}</td>\n",
       "      <td>{3, 4, 5, 9, 11}</td>\n",
       "      <td>{3, 4, 5, 9, 11}</td>\n",
       "    </tr>\n",
       "    <tr>\n",
       "      <th>2</th>\n",
       "      <td>-2.023814</td>\n",
       "      <td>3.148392</td>\n",
       "      <td>-3.155084</td>\n",
       "      <td>-2.605870</td>\n",
       "      <td>-1.764954</td>\n",
       "      <td>1</td>\n",
       "      <td>1</td>\n",
       "      <td>0</td>\n",
       "      <td>1</td>\n",
       "      <td>0</td>\n",
       "      <td>{0, 1, 2, 9, 10}</td>\n",
       "      <td>{0, 1, 2, 9, 10}</td>\n",
       "      <td>{0, 1, 2, 9, 10}</td>\n",
       "      <td>{0, 1, 2, 9, 10}</td>\n",
       "      <td>{0, 1, 2, 9, 10}</td>\n",
       "    </tr>\n",
       "    <tr>\n",
       "      <th>3</th>\n",
       "      <td>1.997969</td>\n",
       "      <td>-3.428115</td>\n",
       "      <td>2.034194</td>\n",
       "      <td>5.085620</td>\n",
       "      <td>3.579017</td>\n",
       "      <td>3</td>\n",
       "      <td>2</td>\n",
       "      <td>2</td>\n",
       "      <td>3</td>\n",
       "      <td>2</td>\n",
       "      <td>{3, 4, 5, 9, 11}</td>\n",
       "      <td>{3, 4, 5, 9, 11}</td>\n",
       "      <td>{3, 4, 5, 9, 11}</td>\n",
       "      <td>{3, 4, 5, 9, 11}</td>\n",
       "      <td>{3, 4, 5, 9, 11}</td>\n",
       "    </tr>\n",
       "    <tr>\n",
       "      <th>4</th>\n",
       "      <td>-2.744668</td>\n",
       "      <td>-2.208053</td>\n",
       "      <td>0.557755</td>\n",
       "      <td>2.809556</td>\n",
       "      <td>1.193116</td>\n",
       "      <td>5</td>\n",
       "      <td>5</td>\n",
       "      <td>4</td>\n",
       "      <td>5</td>\n",
       "      <td>4</td>\n",
       "      <td>{6, 7, 8, 10, 11}</td>\n",
       "      <td>{6, 7, 8, 10, 11}</td>\n",
       "      <td>{6, 7, 8, 10, 11}</td>\n",
       "      <td>{6, 7, 8, 10, 11}</td>\n",
       "      <td>{6, 7, 8, 10, 11}</td>\n",
       "    </tr>\n",
       "    <tr>\n",
       "      <th>...</th>\n",
       "      <td>...</td>\n",
       "      <td>...</td>\n",
       "      <td>...</td>\n",
       "      <td>...</td>\n",
       "      <td>...</td>\n",
       "      <td>...</td>\n",
       "      <td>...</td>\n",
       "      <td>...</td>\n",
       "      <td>...</td>\n",
       "      <td>...</td>\n",
       "      <td>...</td>\n",
       "      <td>...</td>\n",
       "      <td>...</td>\n",
       "      <td>...</td>\n",
       "      <td>...</td>\n",
       "    </tr>\n",
       "    <tr>\n",
       "      <th>1995</th>\n",
       "      <td>-3.827215</td>\n",
       "      <td>-3.512915</td>\n",
       "      <td>3.371360</td>\n",
       "      <td>0.135862</td>\n",
       "      <td>3.685980</td>\n",
       "      <td>5</td>\n",
       "      <td>4</td>\n",
       "      <td>4</td>\n",
       "      <td>4</td>\n",
       "      <td>5</td>\n",
       "      <td>{6, 7, 8, 10, 11}</td>\n",
       "      <td>{6, 7, 8, 10, 11}</td>\n",
       "      <td>{6, 7, 8, 10, 11}</td>\n",
       "      <td>{6, 7, 8, 10, 11}</td>\n",
       "      <td>{6, 7, 8, 10, 11}</td>\n",
       "    </tr>\n",
       "    <tr>\n",
       "      <th>1996</th>\n",
       "      <td>3.654517</td>\n",
       "      <td>-1.556371</td>\n",
       "      <td>4.098848</td>\n",
       "      <td>4.240478</td>\n",
       "      <td>0.000666</td>\n",
       "      <td>2</td>\n",
       "      <td>3</td>\n",
       "      <td>3</td>\n",
       "      <td>2</td>\n",
       "      <td>2</td>\n",
       "      <td>{3, 4, 5, 9, 11}</td>\n",
       "      <td>{3, 4, 5, 9, 11}</td>\n",
       "      <td>{3, 4, 5, 9, 11}</td>\n",
       "      <td>{3, 4, 5, 9, 11}</td>\n",
       "      <td>{3, 4, 5, 9, 11}</td>\n",
       "    </tr>\n",
       "    <tr>\n",
       "      <th>1997</th>\n",
       "      <td>3.894191</td>\n",
       "      <td>-3.622633</td>\n",
       "      <td>3.725578</td>\n",
       "      <td>4.099010</td>\n",
       "      <td>1.463008</td>\n",
       "      <td>3</td>\n",
       "      <td>3</td>\n",
       "      <td>2</td>\n",
       "      <td>3</td>\n",
       "      <td>2</td>\n",
       "      <td>{3, 4, 5, 9, 11}</td>\n",
       "      <td>{3, 4, 5, 9, 11}</td>\n",
       "      <td>{3, 4, 5, 9, 11}</td>\n",
       "      <td>{3, 4, 5, 9, 11}</td>\n",
       "      <td>{3, 4, 5, 9, 11}</td>\n",
       "    </tr>\n",
       "    <tr>\n",
       "      <th>1998</th>\n",
       "      <td>-2.253301</td>\n",
       "      <td>2.147942</td>\n",
       "      <td>-3.151447</td>\n",
       "      <td>-2.057433</td>\n",
       "      <td>-2.784883</td>\n",
       "      <td>0</td>\n",
       "      <td>1</td>\n",
       "      <td>0</td>\n",
       "      <td>1</td>\n",
       "      <td>1</td>\n",
       "      <td>{0, 1, 2, 9, 10}</td>\n",
       "      <td>{0, 1, 2, 9, 10}</td>\n",
       "      <td>{0, 1, 2, 9, 10}</td>\n",
       "      <td>{0, 1, 2, 9, 10}</td>\n",
       "      <td>{0, 1, 2, 9, 10}</td>\n",
       "    </tr>\n",
       "    <tr>\n",
       "      <th>1999</th>\n",
       "      <td>-2.422995</td>\n",
       "      <td>1.839350</td>\n",
       "      <td>-2.325522</td>\n",
       "      <td>-4.044548</td>\n",
       "      <td>-2.956578</td>\n",
       "      <td>0</td>\n",
       "      <td>0</td>\n",
       "      <td>1</td>\n",
       "      <td>1</td>\n",
       "      <td>1</td>\n",
       "      <td>{0, 1, 2, 9, 10}</td>\n",
       "      <td>{0, 1, 2, 9, 10}</td>\n",
       "      <td>{0, 1, 2, 9, 10}</td>\n",
       "      <td>{0, 1, 2, 9, 10}</td>\n",
       "      <td>{0, 1, 2, 9, 10}</td>\n",
       "    </tr>\n",
       "  </tbody>\n",
       "</table>\n",
       "<p>2000 rows × 15 columns</p>\n",
       "</div>"
      ],
      "text/plain": [
       "         num_0     num_1     num_2     num_3     num_4  cat_0  cat_1  cat_2  \\\n",
       "0    -2.602691 -4.224761  3.459970  2.510343  2.930758      4      4      5   \n",
       "1    -0.197082 -3.107729  3.415994  6.028670  5.155558      3      3      3   \n",
       "2    -2.023814  3.148392 -3.155084 -2.605870 -1.764954      1      1      0   \n",
       "3     1.997969 -3.428115  2.034194  5.085620  3.579017      3      2      2   \n",
       "4    -2.744668 -2.208053  0.557755  2.809556  1.193116      5      5      4   \n",
       "...        ...       ...       ...       ...       ...    ...    ...    ...   \n",
       "1995 -3.827215 -3.512915  3.371360  0.135862  3.685980      5      4      4   \n",
       "1996  3.654517 -1.556371  4.098848  4.240478  0.000666      2      3      3   \n",
       "1997  3.894191 -3.622633  3.725578  4.099010  1.463008      3      3      2   \n",
       "1998 -2.253301  2.147942 -3.151447 -2.057433 -2.784883      0      1      0   \n",
       "1999 -2.422995  1.839350 -2.325522 -4.044548 -2.956578      0      0      1   \n",
       "\n",
       "      cat_3  cat_4            multi_0            multi_1            multi_2  \\\n",
       "0         4      4  {6, 7, 8, 10, 11}  {6, 7, 8, 10, 11}  {6, 7, 8, 10, 11}   \n",
       "1         3      3   {3, 4, 5, 9, 11}   {3, 4, 5, 9, 11}   {3, 4, 5, 9, 11}   \n",
       "2         1      0   {0, 1, 2, 9, 10}   {0, 1, 2, 9, 10}   {0, 1, 2, 9, 10}   \n",
       "3         3      2   {3, 4, 5, 9, 11}   {3, 4, 5, 9, 11}   {3, 4, 5, 9, 11}   \n",
       "4         5      4  {6, 7, 8, 10, 11}  {6, 7, 8, 10, 11}  {6, 7, 8, 10, 11}   \n",
       "...     ...    ...                ...                ...                ...   \n",
       "1995      4      5  {6, 7, 8, 10, 11}  {6, 7, 8, 10, 11}  {6, 7, 8, 10, 11}   \n",
       "1996      2      2   {3, 4, 5, 9, 11}   {3, 4, 5, 9, 11}   {3, 4, 5, 9, 11}   \n",
       "1997      3      2   {3, 4, 5, 9, 11}   {3, 4, 5, 9, 11}   {3, 4, 5, 9, 11}   \n",
       "1998      1      1   {0, 1, 2, 9, 10}   {0, 1, 2, 9, 10}   {0, 1, 2, 9, 10}   \n",
       "1999      1      1   {0, 1, 2, 9, 10}   {0, 1, 2, 9, 10}   {0, 1, 2, 9, 10}   \n",
       "\n",
       "                multi_3            multi_4  \n",
       "0     {6, 7, 8, 10, 11}  {6, 7, 8, 10, 11}  \n",
       "1      {3, 4, 5, 9, 11}   {3, 4, 5, 9, 11}  \n",
       "2      {0, 1, 2, 9, 10}   {0, 1, 2, 9, 10}  \n",
       "3      {3, 4, 5, 9, 11}   {3, 4, 5, 9, 11}  \n",
       "4     {6, 7, 8, 10, 11}  {6, 7, 8, 10, 11}  \n",
       "...                 ...                ...  \n",
       "1995  {6, 7, 8, 10, 11}  {6, 7, 8, 10, 11}  \n",
       "1996   {3, 4, 5, 9, 11}   {3, 4, 5, 9, 11}  \n",
       "1997   {3, 4, 5, 9, 11}   {3, 4, 5, 9, 11}  \n",
       "1998   {0, 1, 2, 9, 10}   {0, 1, 2, 9, 10}  \n",
       "1999   {0, 1, 2, 9, 10}   {0, 1, 2, 9, 10}  \n",
       "\n",
       "[2000 rows x 15 columns]"
      ]
     },
     "execution_count": 20,
     "metadata": {},
     "output_type": "execute_result"
    }
   ],
   "source": [
    "joint_x, index_reference = consolidate_attributes(xlist=all_attributes)\n",
    "\n",
    "joint_x"
   ]
  },
  {
   "cell_type": "code",
   "execution_count": 21,
   "metadata": {},
   "outputs": [
    {
     "data": {
      "text/plain": [
       "[0, 1, 2, 3, 4]"
      ]
     },
     "execution_count": 21,
     "metadata": {},
     "output_type": "execute_result"
    }
   ],
   "source": [
    "index_reference['num']"
   ]
  },
  {
   "cell_type": "markdown",
   "metadata": {},
   "source": [
    "Done!"
   ]
  },
  {
   "cell_type": "markdown",
   "metadata": {},
   "source": [
    "## Apply Extended K-Prototypes"
   ]
  },
  {
   "cell_type": "code",
   "execution_count": 22,
   "metadata": {},
   "outputs": [],
   "source": [
    "import os\n",
    "import sys\n",
    "current_dir = os.getcwd()\n",
    "\n",
    "# Get the absolute path of the parent directory\n",
    "parent_dir = os.path.abspath(os.path.join(current_dir, os.pardir))\n",
    "sys.path.append(parent_dir)\n",
    "\n",
    "from kmodes.extended_kprototypes import ExtendedKPrototypes"
   ]
  },
  {
   "cell_type": "code",
   "execution_count": 23,
   "metadata": {},
   "outputs": [
    {
     "data": {
      "text/plain": [
       "{'n_samples': 2000,\n",
       " 'n_clusters': 3,\n",
       " 'n_numeric_features': 5,\n",
       " 'n_categorical_features': 5,\n",
       " 'categorical_cardinalities': [6, 6, 6, 6, 6],\n",
       " 'n_multival_features': 5,\n",
       " 'multival_subvocab_lengths': [(3, 3, 3),\n",
       "  (3, 3, 3),\n",
       "  (3, 3, 3),\n",
       "  (3, 3, 3),\n",
       "  (3, 3, 3)],\n",
       " 'separability': 3.0,\n",
       " 'multival_intersections': 1,\n",
       " 'noise': 0.01,\n",
       " 'class_weights': [0.33, 0.33],\n",
       " 'gamma_c': 0.33,\n",
       " 'gamma_m': 0.33,\n",
       " 'theta': 0.001}"
      ]
     },
     "execution_count": 23,
     "metadata": {},
     "output_type": "execute_result"
    }
   ],
   "source": [
    "config_dict"
   ]
  },
  {
   "cell_type": "code",
   "execution_count": 24,
   "metadata": {},
   "outputs": [],
   "source": [
    "kp = ExtendedKPrototypes(n_clusters=config_dict['n_clusters'],\n",
    "                         gamma_c=config_dict['gamma_c'],\n",
    "                         gamma_m=config_dict['gamma_m'],\n",
    "                         theta=config_dict['theta'])"
   ]
  },
  {
   "cell_type": "code",
   "execution_count": 25,
   "metadata": {},
   "outputs": [
    {
     "data": {
      "text/html": [
       "<style>#sk-container-id-1 {color: black;}#sk-container-id-1 pre{padding: 0;}#sk-container-id-1 div.sk-toggleable {background-color: white;}#sk-container-id-1 label.sk-toggleable__label {cursor: pointer;display: block;width: 100%;margin-bottom: 0;padding: 0.3em;box-sizing: border-box;text-align: center;}#sk-container-id-1 label.sk-toggleable__label-arrow:before {content: \"▸\";float: left;margin-right: 0.25em;color: #696969;}#sk-container-id-1 label.sk-toggleable__label-arrow:hover:before {color: black;}#sk-container-id-1 div.sk-estimator:hover label.sk-toggleable__label-arrow:before {color: black;}#sk-container-id-1 div.sk-toggleable__content {max-height: 0;max-width: 0;overflow: hidden;text-align: left;background-color: #f0f8ff;}#sk-container-id-1 div.sk-toggleable__content pre {margin: 0.2em;color: black;border-radius: 0.25em;background-color: #f0f8ff;}#sk-container-id-1 input.sk-toggleable__control:checked~div.sk-toggleable__content {max-height: 200px;max-width: 100%;overflow: auto;}#sk-container-id-1 input.sk-toggleable__control:checked~label.sk-toggleable__label-arrow:before {content: \"▾\";}#sk-container-id-1 div.sk-estimator input.sk-toggleable__control:checked~label.sk-toggleable__label {background-color: #d4ebff;}#sk-container-id-1 div.sk-label input.sk-toggleable__control:checked~label.sk-toggleable__label {background-color: #d4ebff;}#sk-container-id-1 input.sk-hidden--visually {border: 0;clip: rect(1px 1px 1px 1px);clip: rect(1px, 1px, 1px, 1px);height: 1px;margin: -1px;overflow: hidden;padding: 0;position: absolute;width: 1px;}#sk-container-id-1 div.sk-estimator {font-family: monospace;background-color: #f0f8ff;border: 1px dotted black;border-radius: 0.25em;box-sizing: border-box;margin-bottom: 0.5em;}#sk-container-id-1 div.sk-estimator:hover {background-color: #d4ebff;}#sk-container-id-1 div.sk-parallel-item::after {content: \"\";width: 100%;border-bottom: 1px solid gray;flex-grow: 1;}#sk-container-id-1 div.sk-label:hover label.sk-toggleable__label {background-color: #d4ebff;}#sk-container-id-1 div.sk-serial::before {content: \"\";position: absolute;border-left: 1px solid gray;box-sizing: border-box;top: 0;bottom: 0;left: 50%;z-index: 0;}#sk-container-id-1 div.sk-serial {display: flex;flex-direction: column;align-items: center;background-color: white;padding-right: 0.2em;padding-left: 0.2em;position: relative;}#sk-container-id-1 div.sk-item {position: relative;z-index: 1;}#sk-container-id-1 div.sk-parallel {display: flex;align-items: stretch;justify-content: center;background-color: white;position: relative;}#sk-container-id-1 div.sk-item::before, #sk-container-id-1 div.sk-parallel-item::before {content: \"\";position: absolute;border-left: 1px solid gray;box-sizing: border-box;top: 0;bottom: 0;left: 50%;z-index: -1;}#sk-container-id-1 div.sk-parallel-item {display: flex;flex-direction: column;z-index: 1;position: relative;background-color: white;}#sk-container-id-1 div.sk-parallel-item:first-child::after {align-self: flex-end;width: 50%;}#sk-container-id-1 div.sk-parallel-item:last-child::after {align-self: flex-start;width: 50%;}#sk-container-id-1 div.sk-parallel-item:only-child::after {width: 0;}#sk-container-id-1 div.sk-dashed-wrapped {border: 1px dashed gray;margin: 0 0.4em 0.5em 0.4em;box-sizing: border-box;padding-bottom: 0.4em;background-color: white;}#sk-container-id-1 div.sk-label label {font-family: monospace;font-weight: bold;display: inline-block;line-height: 1.2em;}#sk-container-id-1 div.sk-label-container {text-align: center;}#sk-container-id-1 div.sk-container {/* jupyter's `normalize.less` sets `[hidden] { display: none; }` but bootstrap.min.css set `[hidden] { display: none !important; }` so we also need the `!important` here to be able to override the default hidden behavior on the sphinx rendered scikit-learn.org. See: https://github.com/scikit-learn/scikit-learn/issues/21755 */display: inline-block !important;position: relative;}#sk-container-id-1 div.sk-text-repr-fallback {display: none;}</style><div id=\"sk-container-id-1\" class=\"sk-top-container\"><div class=\"sk-text-repr-fallback\"><pre>ExtendedKPrototypes(n_clusters=3)</pre><b>In a Jupyter environment, please rerun this cell to show the HTML representation or trust the notebook. <br />On GitHub, the HTML representation is unable to render, please try loading this page with nbviewer.org.</b></div><div class=\"sk-container\" hidden><div class=\"sk-item\"><div class=\"sk-estimator sk-toggleable\"><input class=\"sk-toggleable__control sk-hidden--visually\" id=\"sk-estimator-id-1\" type=\"checkbox\" checked><label for=\"sk-estimator-id-1\" class=\"sk-toggleable__label sk-toggleable__label-arrow\">ExtendedKPrototypes</label><div class=\"sk-toggleable__content\"><pre>ExtendedKPrototypes(n_clusters=3)</pre></div></div></div></div></div>"
      ],
      "text/plain": [
       "ExtendedKPrototypes(n_clusters=3)"
      ]
     },
     "execution_count": 25,
     "metadata": {},
     "output_type": "execute_result"
    }
   ],
   "source": [
    "kp.fit(X=joint_x,\n",
    "       categorical=index_reference['cat'],\n",
    "       multi_valued=index_reference['multi'])"
   ]
  },
  {
   "cell_type": "markdown",
   "metadata": {},
   "source": [
    "### Cluster Centroid Comparison"
   ]
  },
  {
   "cell_type": "code",
   "execution_count": null,
   "metadata": {},
   "outputs": [],
   "source": [
    "kp.cluster_centroids_"
   ]
  },
  {
   "cell_type": "code",
   "execution_count": null,
   "metadata": {},
   "outputs": [],
   "source": [
    "joint_x[index_reference['multi']]"
   ]
  },
  {
   "cell_type": "code",
   "execution_count": 26,
   "metadata": {},
   "outputs": [],
   "source": [
    "y_pred = kp.predict(X=joint_x,\n",
    "                    categorical=index_reference['cat'],\n",
    "                    multi_valued=index_reference['multi'])"
   ]
  },
  {
   "cell_type": "markdown",
   "metadata": {},
   "source": [
    "### Partition Similarity Evaluation"
   ]
  },
  {
   "cell_type": "code",
   "execution_count": 27,
   "metadata": {},
   "outputs": [],
   "source": [
    "from sklearn.metrics import adjusted_rand_score, adjusted_mutual_info_score"
   ]
  },
  {
   "cell_type": "code",
   "execution_count": 28,
   "metadata": {},
   "outputs": [
    {
     "data": {
      "text/plain": [
       "0.950279137401805"
      ]
     },
     "execution_count": 28,
     "metadata": {},
     "output_type": "execute_result"
    }
   ],
   "source": [
    "adjusted_mutual_info_score(labels_true=y_true, labels_pred=y_pred)"
   ]
  },
  {
   "cell_type": "code",
   "execution_count": 29,
   "metadata": {},
   "outputs": [
    {
     "data": {
      "text/plain": [
       "0.973182055844923"
      ]
     },
     "execution_count": 29,
     "metadata": {},
     "output_type": "execute_result"
    }
   ],
   "source": [
    "adjusted_rand_score(labels_true=y_true, labels_pred=y_pred)"
   ]
  }
 ],
 "metadata": {
  "kernelspec": {
   "display_name": "ExtendedKproto",
   "language": "python",
   "name": "python3"
  },
  "language_info": {
   "codemirror_mode": {
    "name": "ipython",
    "version": 3
   },
   "file_extension": ".py",
   "mimetype": "text/x-python",
   "name": "python",
   "nbconvert_exporter": "python",
   "pygments_lexer": "ipython3",
   "version": "3.10.14"
  }
 },
 "nbformat": 4,
 "nbformat_minor": 2
}
